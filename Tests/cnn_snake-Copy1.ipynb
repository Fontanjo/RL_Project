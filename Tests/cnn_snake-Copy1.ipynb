{
 "cells": [
  {
   "cell_type": "code",
   "execution_count": 1,
   "metadata": {},
   "outputs": [
    {
     "name": "stderr",
     "output_type": "stream",
     "text": [
      "2022-05-12 15:02:29.713873: W tensorflow/stream_executor/platform/default/dso_loader.cc:64] Could not load dynamic library 'libcudart.so.11.0'; dlerror: libcudart.so.11.0: cannot open shared object file: No such file or directory\n",
      "2022-05-12 15:02:29.713894: I tensorflow/stream_executor/cuda/cudart_stub.cc:29] Ignore above cudart dlerror if you do not have a GPU set up on your machine.\n",
      "/home/jonas/.local/share/virtualenvs/Tests-qIVfeJrl/lib/python3.8/site-packages/flatbuffers/compat.py:19: DeprecationWarning: the imp module is deprecated in favour of importlib; see the module's documentation for alternative uses\n",
      "  import imp\n",
      "/home/jonas/.local/share/virtualenvs/Tests-qIVfeJrl/lib/python3.8/site-packages/keras_preprocessing/image/utils.py:23: DeprecationWarning: NEAREST is deprecated and will be removed in Pillow 10 (2023-07-01). Use Resampling.NEAREST or Dither.NONE instead.\n",
      "  'nearest': pil_image.NEAREST,\n",
      "/home/jonas/.local/share/virtualenvs/Tests-qIVfeJrl/lib/python3.8/site-packages/keras_preprocessing/image/utils.py:24: DeprecationWarning: BILINEAR is deprecated and will be removed in Pillow 10 (2023-07-01). Use Resampling.BILINEAR instead.\n",
      "  'bilinear': pil_image.BILINEAR,\n",
      "/home/jonas/.local/share/virtualenvs/Tests-qIVfeJrl/lib/python3.8/site-packages/keras_preprocessing/image/utils.py:25: DeprecationWarning: BICUBIC is deprecated and will be removed in Pillow 10 (2023-07-01). Use Resampling.BICUBIC instead.\n",
      "  'bicubic': pil_image.BICUBIC,\n",
      "/home/jonas/.local/share/virtualenvs/Tests-qIVfeJrl/lib/python3.8/site-packages/keras_preprocessing/image/utils.py:28: DeprecationWarning: HAMMING is deprecated and will be removed in Pillow 10 (2023-07-01). Use Resampling.HAMMING instead.\n",
      "  if hasattr(pil_image, 'HAMMING'):\n",
      "/home/jonas/.local/share/virtualenvs/Tests-qIVfeJrl/lib/python3.8/site-packages/keras_preprocessing/image/utils.py:30: DeprecationWarning: BOX is deprecated and will be removed in Pillow 10 (2023-07-01). Use Resampling.BOX instead.\n",
      "  if hasattr(pil_image, 'BOX'):\n",
      "/home/jonas/.local/share/virtualenvs/Tests-qIVfeJrl/lib/python3.8/site-packages/keras_preprocessing/image/utils.py:33: DeprecationWarning: LANCZOS is deprecated and will be removed in Pillow 10 (2023-07-01). Use Resampling.LANCZOS instead.\n",
      "  if hasattr(pil_image, 'LANCZOS'):\n"
     ]
    }
   ],
   "source": [
    "import pandas as pd\n",
    "import numpy as np\n",
    "import matplotlib.pyplot as plt\n",
    "import gym\n",
    "\n",
    "import gym_Snake\n",
    "\n",
    "import keras as kr"
   ]
  },
  {
   "cell_type": "code",
   "execution_count": 2,
   "metadata": {},
   "outputs": [
    {
     "name": "stderr",
     "output_type": "stream",
     "text": [
      "2022-05-12 15:02:30.703131: W tensorflow/stream_executor/platform/default/dso_loader.cc:64] Could not load dynamic library 'libcuda.so.1'; dlerror: libcuda.so.1: cannot open shared object file: No such file or directory\n",
      "2022-05-12 15:02:30.703149: W tensorflow/stream_executor/cuda/cuda_driver.cc:269] failed call to cuInit: UNKNOWN ERROR (303)\n",
      "2022-05-12 15:02:30.703168: I tensorflow/stream_executor/cuda/cuda_diagnostics.cc:156] kernel driver does not appear to be running on this host (jonasAspire): /proc/driver/nvidia/version does not exist\n",
      "2022-05-12 15:02:30.703389: I tensorflow/core/platform/cpu_feature_guard.cc:151] This TensorFlow binary is optimized with oneAPI Deep Neural Network Library (oneDNN) to use the following CPU instructions in performance-critical operations:  AVX2 FMA\n",
      "To enable them in other operations, rebuild TensorFlow with the appropriate compiler flags.\n"
     ]
    }
   ],
   "source": [
    "#input_shape = (obs.shape)\n",
    "input_shape = (10,10,1)\n",
    "\n",
    "output = 3\n",
    "\n",
    "\n",
    "# Classic 3L CNN into 2 dense output layer serving as Deep Q Network\n",
    "# 3 conv2D layer into maxpooling into flatten into 2 denses layers\n",
    "\n",
    "# Can remove the max pooling maybe, and change last layer softmax -> linear if simpler needed\n",
    "model = kr.models.Sequential(\n",
    "    [\n",
    "        kr.layers.Input(shape=input_shape),\n",
    "        kr.layers.Conv2D(32, kernel_size=(3, 3),activation=\"relu\"),\n",
    "        kr.layers.Conv2D(64, kernel_size=(3, 3),activation=\"relu\"),\n",
    "        kr.layers.Conv2D(128, kernel_size=(3, 3),activation=\"relu\"),\n",
    "        kr.layers.MaxPooling2D(pool_size=(2,2)),\n",
    "        kr.layers.Flatten(),\n",
    "        kr.layers.Dense(256,activation=\"relu\"),\n",
    "        kr.layers.Dense(output,activation=\"softmax\"),\n",
    "        \n",
    "    ]\n",
    ")\n",
    "\n",
    "model.compile(\n",
    "    loss='mse',\n",
    "    optimizer='adam',\n",
    "    metrics=['accuracy']\n",
    ")"
   ]
  },
  {
   "cell_type": "code",
   "execution_count": 3,
   "metadata": {},
   "outputs": [
    {
     "name": "stdout",
     "output_type": "stream",
     "text": [
      "Model: \"sequential\"\n",
      "_________________________________________________________________\n",
      " Layer (type)                Output Shape              Param #   \n",
      "=================================================================\n",
      " conv2d (Conv2D)             (None, 8, 8, 32)          320       \n",
      "                                                                 \n",
      " conv2d_1 (Conv2D)           (None, 6, 6, 64)          18496     \n",
      "                                                                 \n",
      " conv2d_2 (Conv2D)           (None, 4, 4, 128)         73856     \n",
      "                                                                 \n",
      " max_pooling2d (MaxPooling2D  (None, 2, 2, 128)        0         \n",
      " )                                                               \n",
      "                                                                 \n",
      " flatten (Flatten)           (None, 512)               0         \n",
      "                                                                 \n",
      " dense (Dense)               (None, 256)               131328    \n",
      "                                                                 \n",
      " dense_1 (Dense)             (None, 3)                 771       \n",
      "                                                                 \n",
      "=================================================================\n",
      "Total params: 224,771\n",
      "Trainable params: 224,771\n",
      "Non-trainable params: 0\n",
      "_________________________________________________________________\n"
     ]
    }
   ],
   "source": [
    "model.summary()"
   ]
  },
  {
   "cell_type": "code",
   "execution_count": 4,
   "metadata": {},
   "outputs": [
    {
     "name": "stdout",
     "output_type": "stream",
     "text": [
      "Discrete(100)\n",
      "Discrete(3)\n"
     ]
    }
   ],
   "source": [
    "env = gym.make('Snake-v0', \n",
    "               player='computer', \n",
    "               shape='Normal', \n",
    "               state_mode='matrix', \n",
    "               reward_mode = 'extended', \n",
    "               width=10, \n",
    "               height=10, \n",
    "               solid_border=True)\n",
    "print(env.observation_space)\n",
    "print(env.action_space)\n",
    "\n"
   ]
  },
  {
   "cell_type": "code",
   "execution_count": 5,
   "metadata": {},
   "outputs": [
    {
     "name": "stdout",
     "output_type": "stream",
     "text": [
      "[[0.31607556 0.30083075 0.38309366]]\n",
      "<class 'numpy.ndarray'>\n",
      "1/1 [==============================] - 12s 12s/step - loss: 0.2769 - accuracy: 0.0000e+00\n",
      "[[0.21434122 0.5318079  0.25385094]]\n",
      "<class 'numpy.ndarray'>\n",
      "1/1 [==============================] - 0s 78ms/step - loss: 0.1606 - accuracy: 1.0000\n",
      "[[0.15568827 0.6704507  0.17386109]]\n",
      "<class 'numpy.ndarray'>\n",
      "1/1 [==============================] - 0s 69ms/step - loss: 0.1004 - accuracy: 1.0000\n",
      "[[0.14158154 0.712151   0.1462675 ]]\n",
      "<class 'numpy.ndarray'>\n",
      "1/1 [==============================] - 0s 67ms/step - loss: 0.0289 - accuracy: 1.0000\n",
      "[[0.05235125 0.8918982  0.05575052]]\n",
      "<class 'numpy.ndarray'>\n",
      "1/1 [==============================] - 0s 42ms/step - loss: 0.0018 - accuracy: 1.0000\n",
      "[[0.00985242 0.97884333 0.01130426]]\n",
      "<class 'numpy.ndarray'>\n",
      "1/1 [==============================] - 0s 83ms/step - loss: 3.3337e-04 - accuracy: 1.0000\n",
      "[[0.00418831 0.99117166 0.00464   ]]\n",
      "<class 'numpy.ndarray'>\n",
      "1/1 [==============================] - 0s 78ms/step - loss: 7.3541e-04 - accuracy: 1.0000\n",
      "[[0.00837401 0.9826636  0.00896235]]\n",
      "<class 'numpy.ndarray'>\n",
      "1/1 [==============================] - 0s 90ms/step - loss: 2.0105e-05 - accuracy: 1.0000\n",
      "[[0.00108994 0.99765587 0.00125413]]\n",
      "<class 'numpy.ndarray'>\n",
      "1/1 [==============================] - 0s 63ms/step - loss: 2.9928e-07 - accuracy: 1.0000\n",
      "[[1.1525564e-04 9.9974400e-01 1.4075030e-04]]\n",
      "<class 'numpy.ndarray'>\n",
      "1/1 [==============================] - 0s 69ms/step - loss: 4.8478e-08 - accuracy: 1.0000\n",
      "[[4.8271915e-05 9.9989414e-01 5.7582936e-05]]\n",
      "<class 'numpy.ndarray'>\n",
      "1/1 [==============================] - 0s 64ms/step - loss: 1.3083e-06 - accuracy: 1.0000\n",
      "[[3.6084358e-04 9.9923813e-01 4.0107346e-04]]\n",
      "<class 'numpy.ndarray'>\n",
      "1/1 [==============================] - 0s 78ms/step - loss: 8.9909e-09 - accuracy: 1.0000\n",
      "[[2.4190298e-05 9.9994528e-01 3.0505998e-05]]\n",
      "<class 'numpy.ndarray'>\n",
      "1/1 [==============================] - 0s 4ms/step - loss: 6.3069e-11 - accuracy: 1.0000\n",
      "[[1.8897912e-06 9.9999571e-01 2.3836128e-06]]\n",
      "<class 'numpy.ndarray'>\n",
      "1/1 [==============================] - 0s 4ms/step - loss: 1.2696e-11 - accuracy: 1.0000\n",
      "[[8.9087922e-07 9.9999809e-01 1.1057298e-06]]\n",
      "<class 'numpy.ndarray'>\n",
      "1/1 [==============================] - 0s 4ms/step - loss: 4.3851e-09 - accuracy: 1.0000\n",
      "[[2.304015e-05 9.999504e-01 2.660538e-05]]\n",
      "<class 'numpy.ndarray'>\n",
      "1/1 [==============================] - 0s 4ms/step - loss: 1.1333e-11 - accuracy: 1.0000\n",
      "[[9.4906306e-07 9.9999774e-01 1.2946670e-06]]\n",
      "<class 'numpy.ndarray'>\n",
      "1/1 [==============================] - 0s 5ms/step - loss: 3.4637e-14 - accuracy: 1.0000\n",
      "[[5.9480733e-08 9.9999988e-01 7.8718948e-08]]\n",
      "<class 'numpy.ndarray'>\n",
      "1/1 [==============================] - 0s 4ms/step - loss: 2.3355e-14 - accuracy: 1.0000\n",
      "[[3.3462097e-08 1.0000000e+00 4.3322999e-08]]\n",
      "<class 'numpy.ndarray'>\n",
      "1/1 [==============================] - 0s 4ms/step - loss: 4.1131e-11 - accuracy: 1.0000\n",
      "[[2.5001923e-06 9.9999452e-01 2.9842902e-06]]\n",
      "<class 'numpy.ndarray'>\n",
      "1/1 [==============================] - 0s 62ms/step - loss: 5.9522e-14 - accuracy: 1.0000\n",
      "[[7.22393168e-08 9.99999762e-01 1.04026995e-07]]\n",
      "<class 'numpy.ndarray'>\n",
      "1/1 [==============================] - 0s 52ms/step - loss: 4.9986e-17 - accuracy: 1.0000\n",
      "[[3.9153307e-09 1.0000000e+00 5.3982379e-09]]\n",
      "<class 'numpy.ndarray'>\n",
      "1/1 [==============================] - 0s 62ms/step - loss: 1.9823e-17 - accuracy: 1.0000\n",
      "[[2.6155307e-09 1.0000000e+00 3.4991925e-09]]\n",
      "<class 'numpy.ndarray'>\n",
      "1/1 [==============================] - 0s 94ms/step - loss: 1.1646e-12 - accuracy: 1.0000\n",
      "[[4.5239358e-07 9.9999893e-01 5.5302178e-07]]\n",
      "<class 'numpy.ndarray'>\n",
      "1/1 [==============================] - 0s 83ms/step - loss: 2.6462e-16 - accuracy: 1.0000\n",
      "[[1.0159025e-08 1.0000000e+00 1.5199827e-08]]\n",
      "<class 'numpy.ndarray'>\n",
      "1/1 [==============================] - 0s 88ms/step - loss: 6.2745e-19 - accuracy: 1.0000\n"
     ]
    }
   ],
   "source": [
    "obs = env.reset()\n",
    "done = False\n",
    "\n",
    "i = 0\n",
    "\n",
    "while not done:\n",
    "    # Render\n",
    "    env.render()\n",
    "    \n",
    "    # Get network prediction\n",
    "    pred = model.predict(obs.reshape((1,10,10,1)))\n",
    "    \n",
    "    # Get maximal value\n",
    "    choice = np.argmax(pred)\n",
    "\n",
    "    # Act in the env\n",
    "    obs, reward, done, info = env.step(choice)\n",
    "    \n",
    "    # Train model. But how?\n",
    "    # Dummy learning, just teach to take second action\n",
    "    model.fit([obs.reshape((1,10,10,1))], np.array([[0,1,0]]))\n",
    "    \n",
    "    i += 1\n",
    "    if i > 25: break\n",
    "#     model.train()"
   ]
  },
  {
   "cell_type": "code",
   "execution_count": null,
   "metadata": {},
   "outputs": [],
   "source": []
  }
 ],
 "metadata": {
  "interpreter": {
   "hash": "202e66e9ea6f8941fe8ae8fdf73f377ae764a2738e0cb9fa82204b883cc85544"
  },
  "kernelspec": {
   "display_name": "Python 3 (ipykernel)",
   "language": "python",
   "name": "python3"
  },
  "language_info": {
   "codemirror_mode": {
    "name": "ipython",
    "version": 3
   },
   "file_extension": ".py",
   "mimetype": "text/x-python",
   "name": "python",
   "nbconvert_exporter": "python",
   "pygments_lexer": "ipython3",
   "version": "3.8.10"
  }
 },
 "nbformat": 4,
 "nbformat_minor": 2
}
