{
 "cells": [
  {
   "cell_type": "code",
   "execution_count": 2,
   "metadata": {},
   "outputs": [],
   "source": [
    "import pandas as pd\n",
    "import numpy as np\n",
    "import matplotlib.pyplot as plt\n",
    "import gym\n",
    "import random\n",
    "import time\n",
    "from tqdm import tqdm\n",
    "\n",
    "import gym_Snake\n",
    "\n",
    "from keras import layers,Model,optimizers,losses\n",
    "import tensorflow as tf"
   ]
  },
  {
   "cell_type": "markdown",
   "metadata": {},
   "source": [
    "## Environment"
   ]
  },
  {
   "cell_type": "code",
   "execution_count": 3,
   "metadata": {},
   "outputs": [
    {
     "name": "stdout",
     "output_type": "stream",
     "text": [
      "Discrete(100)\n",
      "Discrete(3)\n"
     ]
    }
   ],
   "source": [
    "env = gym.make('Snake-v0', \n",
    "               player='computer', \n",
    "               shape='Normal', \n",
    "               state_mode='matrix', \n",
    "               reward_mode = 'extended', \n",
    "               width=10, \n",
    "               height=10, \n",
    "               solid_border=True)\n",
    "print(env.observation_space)\n",
    "print(env.action_space)"
   ]
  },
  {
   "cell_type": "code",
   "execution_count": null,
   "metadata": {},
   "outputs": [],
   "source": []
  },
  {
   "cell_type": "markdown",
   "metadata": {},
   "source": [
    "### Creating Network"
   ]
  },
  {
   "cell_type": "code",
   "execution_count": 6,
   "metadata": {},
   "outputs": [],
   "source": [
    "#input_shape = (obs.shape)\n",
    "\n",
    "input_matrix = (15,15,1,)\n",
    "\n",
    "number_of_action = 3\n",
    "\n",
    "\n",
    "# Classic 3L CNN into 2 dense output layer serving as Deep Q Network\n",
    "# 3 conv2D layer into maxpooling into flatten into 2 denses layers\n",
    "\n",
    "# Can remove the max pooling maybe, and change last layer softmax -> linear if simpler needed\n",
    "# Archi based on different readings // assumed similar difficulties as MNIST personal implementation\n",
    "\n",
    "def create_Q_network():\n",
    "\n",
    "    inputs = layers.Input(shape=input_matrix)\n",
    "\n",
    "    # CNN layers\n",
    "    layer1 = layers.Conv2D(32, kernel_size=(3, 3),activation=\"relu\")(inputs)\n",
    "    layer2 = layers.Conv2D(64, kernel_size=(3, 3),activation=\"relu\")(layer1)\n",
    "    layer3 = layers.Conv2D(128, kernel_size=(3, 3),activation=\"relu\")(layer2)\n",
    "\n",
    "    # Max Pooling which can probably be removed \n",
    "    #layer4 = layers.MaxPooling2D(pool_size=(2,2))(layer3)\n",
    "\n",
    "    # Flatten \n",
    "    layer5 = layers.Flatten()(layer3)\n",
    "\n",
    "    # Dense layer to predict the action\n",
    "    layer6 = layers.Dense(512,activation=\"relu\")(layer5)\n",
    "    action = layers.Dense(number_of_action,activation=\"softmax\")(layer6)\n",
    "\n",
    "    return Model(inputs=inputs,outputs=action)\n",
    "\n"
   ]
  },
  {
   "cell_type": "code",
   "execution_count": 4,
   "metadata": {},
   "outputs": [],
   "source": [
    "#input_shape = (obs.shape)\n",
    "\n",
    "input_matrix = (20,20,1,)\n",
    "\n",
    "number_of_action = 3\n",
    "\n",
    "\n",
    "# Classic 3L CNN into 2 dense output layer serving as Deep Q Network\n",
    "# 3 conv2D layer into maxpooling into flatten into 2 denses layers\n",
    "\n",
    "# Can remove the max pooling maybe, and change last layer softmax -> linear if simpler needed\n",
    "# Archi based on different readings // assumed similar difficulties as MNIST personal implementation\n",
    "\n",
    "def create_small_Q_network():\n",
    "\n",
    "    inputs = layers.Input(shape=input_matrix)\n",
    "\n",
    "    # CNN layers\n",
    "    layer1 = layers.Conv2D(32, kernel_size=(3, 3),activation=\"relu\")(inputs)\n",
    "    layer2 = layers.Conv2D(64, kernel_size=(3, 3),activation=\"relu\")(layer1)\n",
    "    #layer3 = layers.Conv2D(128, kernel_size=(3, 3),activation=\"relu\")(layer2)\n",
    "\n",
    "    # Max Pooling which can probably be removed \n",
    "    #layer4 = layers.MaxPooling2D(pool_size=(2,2))(layer3)\n",
    "\n",
    "    # Flatten \n",
    "    layer5 = layers.Flatten()(layer2)\n",
    "\n",
    "    # Dense layer to predict the action\n",
    "    layer6 = layers.Dense(128,activation=\"relu\")(layer5)\n",
    "    action = layers.Dense(number_of_action,activation=\"softmax\")(layer6)\n",
    "\n",
    "    return Model(inputs=inputs,outputs=action)\n"
   ]
  },
  {
   "cell_type": "markdown",
   "metadata": {},
   "source": [
    "Cf Deep Q learning paper (and some other lectures)\n",
    "\n",
    "We're using two networks, one to predict the Q-values, and the second is used as target for the prediction"
   ]
  },
  {
   "cell_type": "code",
   "execution_count": 5,
   "metadata": {},
   "outputs": [
    {
     "name": "stdout",
     "output_type": "stream",
     "text": [
      "Model: \"model\"\n",
      "_________________________________________________________________\n",
      "Layer (type)                 Output Shape              Param #   \n",
      "=================================================================\n",
      "input_1 (InputLayer)         [(None, 20, 20, 1)]       0         \n",
      "_________________________________________________________________\n",
      "conv2d (Conv2D)              (None, 18, 18, 32)        320       \n",
      "_________________________________________________________________\n",
      "conv2d_1 (Conv2D)            (None, 16, 16, 64)        18496     \n",
      "_________________________________________________________________\n",
      "flatten (Flatten)            (None, 16384)             0         \n",
      "_________________________________________________________________\n",
      "dense (Dense)                (None, 128)               2097280   \n",
      "_________________________________________________________________\n",
      "dense_1 (Dense)              (None, 3)                 387       \n",
      "=================================================================\n",
      "Total params: 2,116,483\n",
      "Trainable params: 2,116,483\n",
      "Non-trainable params: 0\n",
      "_________________________________________________________________\n"
     ]
    },
    {
     "name": "stderr",
     "output_type": "stream",
     "text": [
      "2022-05-18 09:50:50.342971: I tensorflow/compiler/jit/xla_cpu_device.cc:41] Not creating XLA devices, tf_xla_enable_xla_devices not set\n",
      "2022-05-18 09:50:50.343387: I tensorflow/core/platform/cpu_feature_guard.cc:142] This TensorFlow binary is optimized with oneAPI Deep Neural Network Library (oneDNN) to use the following CPU instructions in performance-critical operations:  SSE4.1 SSE4.2 AVX AVX2 FMA\n",
      "To enable them in other operations, rebuild TensorFlow with the appropriate compiler flags.\n",
      "2022-05-18 09:50:50.346574: I tensorflow/core/common_runtime/process_util.cc:146] Creating new thread pool with default inter op setting: 2. Tune using inter_op_parallelism_threads for best performance.\n"
     ]
    }
   ],
   "source": [
    "model = create_small_Q_network()\n",
    "\n",
    "model.summary()"
   ]
  },
  {
   "cell_type": "code",
   "execution_count": 6,
   "metadata": {},
   "outputs": [
    {
     "name": "stdout",
     "output_type": "stream",
     "text": [
      "Model: \"model_1\"\n",
      "_________________________________________________________________\n",
      "Layer (type)                 Output Shape              Param #   \n",
      "=================================================================\n",
      "input_2 (InputLayer)         [(None, 20, 20, 1)]       0         \n",
      "_________________________________________________________________\n",
      "conv2d_2 (Conv2D)            (None, 18, 18, 32)        320       \n",
      "_________________________________________________________________\n",
      "conv2d_3 (Conv2D)            (None, 16, 16, 64)        18496     \n",
      "_________________________________________________________________\n",
      "flatten_1 (Flatten)          (None, 16384)             0         \n",
      "_________________________________________________________________\n",
      "dense_2 (Dense)              (None, 128)               2097280   \n",
      "_________________________________________________________________\n",
      "dense_3 (Dense)              (None, 3)                 387       \n",
      "=================================================================\n",
      "Total params: 2,116,483\n",
      "Trainable params: 2,116,483\n",
      "Non-trainable params: 0\n",
      "_________________________________________________________________\n"
     ]
    }
   ],
   "source": [
    "model_target = create_small_Q_network()\n",
    "\n",
    "model_target.summary()"
   ]
  },
  {
   "cell_type": "markdown",
   "metadata": {},
   "source": [
    "## Training\n",
    "\n",
    "cf https://towardsdatascience.com/deep-q-learning-tutorial-mindqn-2a4c855abffc\n",
    "and https://www.cs.toronto.edu/~vmnih/docs/dqn.pdf"
   ]
  },
  {
   "cell_type": "code",
   "execution_count": 12,
   "metadata": {},
   "outputs": [],
   "source": [
    "def play_epoch(env,epsilon,action_history,state_history,state_next_history,done_history,rewards_history, discount = 0.99,\n",
    "max_steps_per_epoch = 5000,epsilon_min = 0.1,epsilon_max = 1.0,epsilon_random_frames = 20000,epsilon_greedy_frames = 100000.0,\n",
    "render = False):\n",
    "\n",
    "    state = env.reset()\n",
    "    episode_reward = 0\n",
    "\n",
    "    epsilon_interval = (epsilon_max - epsilon_min)\n",
    "    \n",
    "    done = False\n",
    "    step_counter = 0\n",
    "\n",
    "    random_action_counter = 0\n",
    "\n",
    "    #################################\n",
    "    ## Change to modify the model training\n",
    "    \n",
    "    # How many frame to recover from the replay buffer\n",
    "    batch_size = 32\n",
    "    # Train the model after 4 actions\n",
    "    update_Q_network = 4\n",
    "    # How often to update the target network\n",
    "    update_target_network = 10000\n",
    "    # Replay buffer size\n",
    "    max_memory_length = 1000000\n",
    "\n",
    "    while not done and step_counter < max_steps_per_epoch:\n",
    "        \n",
    "        step_counter += 1\n",
    "        \n",
    "        ###############################\n",
    "        # Show\n",
    "        \n",
    "        if render: env.render()\n",
    "\n",
    "        ###############################\n",
    "        # Select Action\n",
    "\n",
    "        # Use epsilon greedy for exploration, \n",
    "        # also in the beginning for \"epsilon_random_frames\" always random\n",
    "        if step_counter < epsilon_random_frames or epsilon > random.random():\n",
    "            # Take random action\n",
    "            action = np.random.choice(number_of_action)\n",
    "            random_action_counter += 1\n",
    "        else:\n",
    "            # Predict action Q-values\n",
    "            # From environment state\n",
    "            state_tensor = tf.convert_to_tensor(state)\n",
    "            state_tensor = tf.expand_dims(state_tensor, 0)\n",
    "            action_probs = model(state_tensor, training=False)\n",
    "            # Take best action\n",
    "            action = tf.argmax(action_probs[0]).numpy()\n",
    "\n",
    "        ###############################\n",
    "        # Epsilon decay\n",
    "\n",
    "        # Decay probability of taking random action\n",
    "        epsilon -= epsilon_interval / epsilon_greedy_frames\n",
    "        epsilon = max(epsilon, epsilon_min)\n",
    "\n",
    "        ###############################\n",
    "        # Act in the env\n",
    "\n",
    "        state_next, reward, done, _ = env.step(action)\n",
    "\n",
    "        ###############################\n",
    "        # Store reward for that run\n",
    "\n",
    "        episode_reward += reward    \n",
    "\n",
    "        ###############################\n",
    "        # Slow render\n",
    "        if render: time.sleep(0.5)\n",
    "\n",
    "        ###############################\n",
    "        # Save actions and states in replay buffer\n",
    "        \n",
    "        action_history.append(action)\n",
    "        state_history.append(state)\n",
    "        state_next_history.append(state_next)\n",
    "        done_history.append(done)\n",
    "        rewards_history.append(reward)\n",
    "        state = state_next\n",
    "\n",
    "        ###############################\n",
    "        # Update the Q-Network\n",
    "\n",
    "        # Only once every 4 frames (good tradeoff between speed and efficiency of training)\n",
    "        # and only when the buffer is at least 32 (the size of the batch)\n",
    "        \n",
    "        # Update every fourth frame and once batch size is over 32\n",
    "        if step_counter % update_Q_network == 0 and len(done_history) > batch_size:\n",
    "\n",
    "            # Get indices of samples for replay buffers\n",
    "            indices = np.random.choice(range(len(done_history)), size=batch_size)\n",
    "\n",
    "            # Sample from replay buffer\n",
    "            action_sample = [action_history[i] for i in indices]\n",
    "            state_sample = np.array([state_history[i] for i in indices])\n",
    "            state_next_sample = np.array([state_next_history[i] for i in indices])\n",
    "            rewards_sample = [rewards_history[i] for i in indices]\n",
    "            done_sample = tf.convert_to_tensor([float(done_history[i]) for i in indices])\n",
    "\n",
    "            # Build the updated Q-values for the sampled future states\n",
    "            # Use the target model for stability\n",
    "            future_rewards = model_target.predict(state_next_sample)\n",
    "            # Q value = reward + discount factor * expected future reward\n",
    "            updated_q_values = rewards_sample + discount * tf.reduce_max(future_rewards, axis=1)\n",
    "\n",
    "            # If final frame set the last value to -1\n",
    "            updated_q_values = updated_q_values * (1 - done_sample) - done_sample\n",
    "\n",
    "            # Create a mask so we only calculate loss on the updated Q-values\n",
    "            masks = tf.one_hot(action_sample, number_of_action)\n",
    "\n",
    "            with tf.GradientTape() as tape:\n",
    "                # Train the model on the states and updated Q-values\n",
    "                q_values = model(state_sample)\n",
    "\n",
    "                # Apply the masks to the Q-values to get the Q-value for action taken\n",
    "                q_action = tf.reduce_sum(tf.multiply(q_values, masks), axis=1)\n",
    "                # Calculate loss between new Q-value and old Q-value\n",
    "                loss = loss_function(updated_q_values, q_action)\n",
    "\n",
    "            # Backpropagation\n",
    "            grads = tape.gradient(loss, model.trainable_variables)\n",
    "            optimizer.apply_gradients(zip(grads, model.trainable_variables))\n",
    "\n",
    "        ###############################\n",
    "        # Update the target-Network\n",
    "\n",
    "        if step_counter % update_target_network == 0:\n",
    "            \n",
    "            # update the the target network with new weights\n",
    "            model_target.set_weights(model.get_weights())\n",
    "\n",
    "        ###############################\n",
    "        # Delete the 10'000 oldest replays from buffer history when bigger than allowed \n",
    "\n",
    "        if len(done_history) > max_memory_length:\n",
    "            \n",
    "            del action_history[:10000]\n",
    "            del state_history[:10000]\n",
    "            del state_next_history[:10000]\n",
    "            del rewards_history[:10000]\n",
    "            del done_history[:10000]\n",
    "\n",
    "    return episode_reward,epsilon,random_action_counter"
   ]
  },
  {
   "cell_type": "code",
   "execution_count": 13,
   "metadata": {},
   "outputs": [
    {
     "name": "stderr",
     "output_type": "stream",
     "text": [
      "  0%|          | 0/15000 [00:00<?, ?it/s]2022-05-17 17:10:05.023524: I tensorflow/compiler/mlir/mlir_graph_optimization_pass.cc:116] None of the MLIR optimization passes are enabled (registered 2)\n",
      "2022-05-17 17:10:05.026563: I tensorflow/core/platform/profile_utils/cpu_utils.cc:112] CPU Frequency: 3792010000 Hz\n",
      "100%|██████████| 15000/15000 [5:17:07<00:00,  1.27s/it]  \n",
      "2022-05-17 22:27:12.353831: W tensorflow/python/util/util.cc:348] Sets are not currently considered sequences, but this may change in the future, so consider avoiding using them.\n"
     ]
    },
    {
     "name": "stdout",
     "output_type": "stream",
     "text": [
      "INFO:tensorflow:Assets written to: ../../../Tests/networks/small_q_network/assets\n",
      "INFO:tensorflow:Assets written to: ../../../Tests/networks/small_target_network/assets\n"
     ]
    }
   ],
   "source": [
    "epsilon = 1.0  # Epsilon greedy parameter\n",
    "\n",
    "# improves training time\n",
    "optimizer = optimizers.Adam(learning_rate=0.00025, clipnorm=1.0)\n",
    "\n",
    "# Experience replay buffers\n",
    "action_history = []\n",
    "state_history = []\n",
    "state_next_history = []\n",
    "rewards_history = []\n",
    "done_history = []\n",
    "\n",
    "episode_reward_history = []\n",
    "episode_epsilon_history = []\n",
    "episode_random_action_history = []\n",
    "# Using huber loss for stability\n",
    "loss_function = losses.Huber()\n",
    "\n",
    "# number of epoch\n",
    "#nb_iterations = 50000\n",
    "nb_iterations = 15000\n",
    "#nb_iterations = 70\n",
    "\n",
    "for i in tqdm(range(nb_iterations)):\n",
    "\n",
    "    r_episode,epsilon,random_action = play_epoch(env=env,epsilon=epsilon,action_history=action_history,state_history=state_history,state_next_history=state_next_history,done_history=done_history,rewards_history=rewards_history)\n",
    "    episode_reward_history.append(r_episode)\n",
    "    episode_epsilon_history.append(epsilon)\n",
    "    episode_random_action_history.append(random_action)\n",
    "\n",
    "model.save(\"../../../Tests/networks/small_q_network\")\n",
    "model_target.save(\"../../../Tests/networks/small_target_network\")\n"
   ]
  },
  {
   "cell_type": "markdown",
   "metadata": {},
   "source": [
    "### Visualize results"
   ]
  },
  {
   "cell_type": "code",
   "execution_count": 14,
   "metadata": {},
   "outputs": [
    {
     "data": {
      "text/plain": [
       "[<matplotlib.lines.Line2D at 0x7fc26947c2b0>]"
      ]
     },
     "execution_count": 14,
     "metadata": {},
     "output_type": "execute_result"
    },
    {
     "data": {
      "image/png": "[encoded data removed]",
      "text/plain": [
       "<Figure size 432x288 with 1 Axes>"
      ]
     },
     "metadata": {
      "needs_background": "light"
     },
     "output_type": "display_data"
    }
   ],
   "source": [
    "N = 20\n",
    "plt.plot(range(len(episode_reward_history)), episode_reward_history)\n",
    "plt.plot(np.convolve(np.array(episode_reward_history), np.ones(N)/N, mode='valid'))"
   ]
  },
  {
   "cell_type": "code",
   "execution_count": 15,
   "metadata": {},
   "outputs": [
    {
     "data": {
      "text/plain": [
       "[<matplotlib.lines.Line2D at 0x7fc269bed6a0>]"
      ]
     },
     "execution_count": 15,
     "metadata": {},
     "output_type": "execute_result"
    },
    {
     "data": {
      "image/png": "[encoded data removed]",
      "text/plain": [
       "<Figure size 432x288 with 1 Axes>"
      ]
     },
     "metadata": {
      "needs_background": "light"
     },
     "output_type": "display_data"
    }
   ],
   "source": [
    "N = 20\n",
    "plt.plot(range(len(episode_epsilon_history)), episode_epsilon_history)\n",
    "plt.plot(np.convolve(np.array(episode_epsilon_history), np.ones(N)/N, mode='valid'))"
   ]
  },
  {
   "cell_type": "code",
   "execution_count": 16,
   "metadata": {},
   "outputs": [
    {
     "data": {
      "text/plain": [
       "[<matplotlib.lines.Line2D at 0x7fc269aa2760>]"
      ]
     },
     "execution_count": 16,
     "metadata": {},
     "output_type": "execute_result"
    },
    {
     "data": {
      "image/png": "[encoded data removed]",
      "text/plain": [
       "<Figure size 432x288 with 1 Axes>"
      ]
     },
     "metadata": {
      "needs_background": "light"
     },
     "output_type": "display_data"
    }
   ],
   "source": [
    "N = 20\n",
    "plt.plot(range(len(episode_random_action_history)), episode_random_action_history)\n",
    "plt.plot(np.convolve(np.array(episode_random_action_history), np.ones(N)/N, mode='valid'))"
   ]
  },
  {
   "cell_type": "markdown",
   "metadata": {},
   "source": [
    "## Play the game with the trained agent"
   ]
  },
  {
   "cell_type": "code",
   "execution_count": 17,
   "metadata": {},
   "outputs": [],
   "source": [
    "def play_game(env,max_steps_per_epoch = 10000,render = False):\n",
    "\n",
    "    state = env.reset()\n",
    "    episode_reward = 0\n",
    "    \n",
    "    done = False\n",
    "    step_counter = 0\n",
    "\n",
    "    while not done and step_counter < max_steps_per_epoch:\n",
    "        \n",
    "        step_counter += 1\n",
    "        \n",
    "        ###############################\n",
    "        # Show\n",
    "        \n",
    "        if render: env.render()\n",
    "\n",
    "        ###############################\n",
    "        # Select Action\n",
    "\n",
    "        state_tensor = tf.convert_to_tensor(state)\n",
    "        state_tensor = tf.expand_dims(state_tensor, 0)\n",
    "        action_probs = model(state_tensor, training=False)\n",
    "        # Take best action\n",
    "        action = tf.argmax(action_probs[0]).numpy()\n",
    "\n",
    "        ###############################\n",
    "        # Act in the env\n",
    "\n",
    "        state_next, reward, done, _ = env.step(action)\n",
    "\n",
    "        ###############################\n",
    "        # Store reward for that run\n",
    "\n",
    "        episode_reward += reward    \n",
    "\n",
    "        ###############################\n",
    "        # Slow render\n",
    "\n",
    "        if render: time.sleep(0.5)\n",
    "\n",
    "        ###############################\n",
    "        # Update state\n",
    "\n",
    "        state = state_next\n",
    "\n",
    "\n",
    "    return episode_reward"
   ]
  },
  {
   "cell_type": "code",
   "execution_count": 20,
   "metadata": {},
   "outputs": [
    {
     "data": {
      "text/plain": [
       "-69"
      ]
     },
     "execution_count": 20,
     "metadata": {},
     "output_type": "execute_result"
    }
   ],
   "source": [
    "play_game(env=env,render=True)"
   ]
  },
  {
   "cell_type": "code",
   "execution_count": null,
   "metadata": {},
   "outputs": [],
   "source": []
  }
 ],
 "metadata": {
  "interpreter": {
   "hash": "202e66e9ea6f8941fe8ae8fdf73f377ae764a2738e0cb9fa82204b883cc85544"
  },
  "kernelspec": {
   "display_name": "Python 3.9.12 ('rl')",
   "language": "python",
   "name": "python3"
  },
  "language_info": {
   "codemirror_mode": {
    "name": "ipython",
    "version": 3
   },
   "file_extension": ".py",
   "mimetype": "text/x-python",
   "name": "python",
   "nbconvert_exporter": "python",
   "pygments_lexer": "ipython3",
   "version": "3.9.12"
  },
  "orig_nbformat": 4
 },
 "nbformat": 4,
 "nbformat_minor": 2
}
