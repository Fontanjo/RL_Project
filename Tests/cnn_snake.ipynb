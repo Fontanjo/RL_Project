{
 "cells": [
  {
   "cell_type": "code",
   "execution_count": 23,
   "metadata": {},
   "outputs": [],
   "source": [
    "import pandas as pd\n",
    "import numpy as np\n",
    "import matplotlib.pyplot as plt\n",
    "import gym\n",
    "import random\n",
    "import time\n",
    "from tqdm import tqdm\n",
    "\n",
    "import gym_Snake\n",
    "\n",
    "from keras import layers,Model,optimizers,losses\n",
    "import tensorflow as tf"
   ]
  },
  {
   "cell_type": "markdown",
   "metadata": {},
   "source": [
    "## Environment"
   ]
  },
  {
   "cell_type": "code",
   "execution_count": 24,
   "metadata": {},
   "outputs": [
    {
     "name": "stdout",
     "output_type": "stream",
     "text": [
      "Discrete(225)\n",
      "Discrete(3)\n"
     ]
    }
   ],
   "source": [
    "env = gym.make('Snake-v0', \n",
    "               player='computer', \n",
    "               shape='Normal', \n",
    "               state_mode='matrix', \n",
    "               reward_mode = 'extended', \n",
    "               width=15, \n",
    "               height=15, \n",
    "               solid_border=True)\n",
    "print(env.observation_space)\n",
    "print(env.action_space)"
   ]
  },
  {
   "cell_type": "code",
   "execution_count": null,
   "metadata": {},
   "outputs": [],
   "source": []
  },
  {
   "cell_type": "markdown",
   "metadata": {},
   "source": [
    "### Creating Network"
   ]
  },
  {
   "cell_type": "code",
   "execution_count": 25,
   "metadata": {},
   "outputs": [],
   "source": [
    "#input_shape = (obs.shape)\n",
    "\n",
    "input_matrix = (15,15,1,)\n",
    "\n",
    "number_of_action = 3\n",
    "\n",
    "\n",
    "# Classic 3L CNN into 2 dense output layer serving as Deep Q Network\n",
    "# 3 conv2D layer into maxpooling into flatten into 2 denses layers\n",
    "\n",
    "# Can remove the max pooling maybe, and change last layer softmax -> linear if simpler needed\n",
    "# Archi based on different readings // assumed similar difficulties as MNIST personal implementation\n",
    "\n",
    "def create_Q_network():\n",
    "\n",
    "    inputs = layers.Input(shape=input_matrix)\n",
    "\n",
    "    # CNN layers\n",
    "    layer1 = layers.Conv2D(32, kernel_size=(3, 3),activation=\"relu\")(inputs)\n",
    "    layer2 = layers.Conv2D(64, kernel_size=(3, 3),activation=\"relu\")(layer1)\n",
    "    layer3 = layers.Conv2D(128, kernel_size=(3, 3),activation=\"relu\")(layer2)\n",
    "\n",
    "    # Max Pooling which can probably be removed \n",
    "    #layer4 = layers.MaxPooling2D(pool_size=(2,2))(layer3)\n",
    "\n",
    "    # Flatten \n",
    "    layer5 = layers.Flatten()(layer3)\n",
    "\n",
    "    # Dense layer to predict the action\n",
    "    layer6 = layers.Dense(512,activation=\"relu\")(layer5)\n",
    "    action = layers.Dense(number_of_action,activation=\"softmax\")(layer6)\n",
    "\n",
    "    return Model(inputs=inputs,outputs=action)\n",
    "\n"
   ]
  },
  {
   "cell_type": "markdown",
   "metadata": {},
   "source": [
    "Cf Deep Q learning paper (and some other lectures)\n",
    "\n",
    "We're using two networks, one to predict the Q-values, and the second is used as target for the prediction"
   ]
  },
  {
   "cell_type": "code",
   "execution_count": 26,
   "metadata": {},
   "outputs": [
    {
     "name": "stdout",
     "output_type": "stream",
     "text": [
      "Model: \"model_2\"\n",
      "_________________________________________________________________\n",
      "Layer (type)                 Output Shape              Param #   \n",
      "=================================================================\n",
      "input_3 (InputLayer)         [(None, 15, 15, 1)]       0         \n",
      "_________________________________________________________________\n",
      "conv2d_6 (Conv2D)            (None, 13, 13, 32)        320       \n",
      "_________________________________________________________________\n",
      "conv2d_7 (Conv2D)            (None, 11, 11, 64)        18496     \n",
      "_________________________________________________________________\n",
      "conv2d_8 (Conv2D)            (None, 9, 9, 128)         73856     \n",
      "_________________________________________________________________\n",
      "flatten_2 (Flatten)          (None, 10368)             0         \n",
      "_________________________________________________________________\n",
      "dense_4 (Dense)              (None, 512)               5308928   \n",
      "_________________________________________________________________\n",
      "dense_5 (Dense)              (None, 3)                 1539      \n",
      "=================================================================\n",
      "Total params: 5,403,139\n",
      "Trainable params: 5,403,139\n",
      "Non-trainable params: 0\n",
      "_________________________________________________________________\n"
     ]
    }
   ],
   "source": [
    "model = create_Q_network()\n",
    "\n",
    "model.summary()"
   ]
  },
  {
   "cell_type": "code",
   "execution_count": 27,
   "metadata": {},
   "outputs": [
    {
     "name": "stdout",
     "output_type": "stream",
     "text": [
      "Model: \"model_3\"\n",
      "_________________________________________________________________\n",
      "Layer (type)                 Output Shape              Param #   \n",
      "=================================================================\n",
      "input_4 (InputLayer)         [(None, 15, 15, 1)]       0         \n",
      "_________________________________________________________________\n",
      "conv2d_9 (Conv2D)            (None, 13, 13, 32)        320       \n",
      "_________________________________________________________________\n",
      "conv2d_10 (Conv2D)           (None, 11, 11, 64)        18496     \n",
      "_________________________________________________________________\n",
      "conv2d_11 (Conv2D)           (None, 9, 9, 128)         73856     \n",
      "_________________________________________________________________\n",
      "flatten_3 (Flatten)          (None, 10368)             0         \n",
      "_________________________________________________________________\n",
      "dense_6 (Dense)              (None, 512)               5308928   \n",
      "_________________________________________________________________\n",
      "dense_7 (Dense)              (None, 3)                 1539      \n",
      "=================================================================\n",
      "Total params: 5,403,139\n",
      "Trainable params: 5,403,139\n",
      "Non-trainable params: 0\n",
      "_________________________________________________________________\n"
     ]
    }
   ],
   "source": [
    "model_target = create_Q_network()\n",
    "\n",
    "model_target.summary()"
   ]
  },
  {
   "cell_type": "markdown",
   "metadata": {},
   "source": [
    "## Training\n",
    "\n",
    "cf https://towardsdatascience.com/deep-q-learning-tutorial-mindqn-2a4c855abffc\n",
    "and https://www.cs.toronto.edu/~vmnih/docs/dqn.pdf"
   ]
  },
  {
   "cell_type": "code",
   "execution_count": 28,
   "metadata": {},
   "outputs": [],
   "source": [
    "def play_epoch(env,epsilon,action_history,state_history,state_next_history,done_history,rewards_history, discount = 0.99,\n",
    "max_steps_per_epoch = 5000,epsilon_min = 0.1,epsilon_max = 1.0,epsilon_random_frames = 20000,epsilon_greedy_frames = 100000.0,\n",
    "render = False):\n",
    "\n",
    "    state = env.reset()\n",
    "    episode_reward = 0\n",
    "\n",
    "    epsilon_interval = (epsilon_max - epsilon_min)\n",
    "    \n",
    "    done = False\n",
    "    step_counter = 0\n",
    "\n",
    "    #################################\n",
    "    ## Change to modify the model training\n",
    "    \n",
    "    # How many frame to recover from the replay buffer\n",
    "    batch_size = 32\n",
    "    # Train the model after 4 actions\n",
    "    update_Q_network = 4\n",
    "    # How often to update the target network\n",
    "    update_target_network = 10000\n",
    "    # Replay buffer size\n",
    "    max_memory_length = 1000000\n",
    "\n",
    "    while not done and step_counter < max_steps_per_epoch:\n",
    "        \n",
    "        step_counter += 1\n",
    "        \n",
    "        ###############################\n",
    "        # Show\n",
    "        \n",
    "        if render: env.render()\n",
    "\n",
    "        ###############################\n",
    "        # Select Action\n",
    "\n",
    "        # Use epsilon greedy for exploration, \n",
    "        # also in the beginning for \"epsilon_random_frames\" always random\n",
    "        if step_counter < epsilon_random_frames or epsilon > random.random():\n",
    "            # Take random action\n",
    "            action = np.random.choice(number_of_action)\n",
    "        else:\n",
    "            # Predict action Q-values\n",
    "            # From environment state\n",
    "            state_tensor = tf.convert_to_tensor(state)\n",
    "            state_tensor = tf.expand_dims(state_tensor, 0)\n",
    "            action_probs = model(state_tensor, training=False)\n",
    "            # Take best action\n",
    "            action = tf.argmax(action_probs[0]).numpy()\n",
    "\n",
    "        ###############################\n",
    "        # Epsilon decay\n",
    "\n",
    "        # Decay probability of taking random action\n",
    "        epsilon -= epsilon_interval / epsilon_greedy_frames\n",
    "        epsilon = max(epsilon, epsilon_min)\n",
    "\n",
    "        ###############################\n",
    "        # Act in the env\n",
    "\n",
    "        state_next, reward, done, _ = env.step(action)\n",
    "\n",
    "        ###############################\n",
    "        # Store reward for that run\n",
    "\n",
    "        episode_reward += reward    \n",
    "\n",
    "        ###############################\n",
    "        # Slow render\n",
    "        if render: time.sleep(0.5)\n",
    "\n",
    "        ###############################\n",
    "        # Save actions and states in replay buffer\n",
    "        \n",
    "        action_history.append(action)\n",
    "        state_history.append(state)\n",
    "        state_next_history.append(state_next)\n",
    "        done_history.append(done)\n",
    "        rewards_history.append(reward)\n",
    "        state = state_next\n",
    "\n",
    "        ###############################\n",
    "        # Update the Q-Network\n",
    "\n",
    "        # Only once every 4 frames (good tradeoff between speed and efficiency of training)\n",
    "        # and only when the buffer is at least 32 (the size of the batch)\n",
    "        \n",
    "        # Update every fourth frame and once batch size is over 32\n",
    "        if step_counter % update_Q_network == 0 and len(done_history) > batch_size:\n",
    "\n",
    "            # Get indices of samples for replay buffers\n",
    "            indices = np.random.choice(range(len(done_history)), size=batch_size)\n",
    "\n",
    "            # Sample from replay buffer\n",
    "            action_sample = [action_history[i] for i in indices]\n",
    "            state_sample = np.array([state_history[i] for i in indices])\n",
    "            state_next_sample = np.array([state_next_history[i] for i in indices])\n",
    "            rewards_sample = [rewards_history[i] for i in indices]\n",
    "            done_sample = tf.convert_to_tensor([float(done_history[i]) for i in indices])\n",
    "\n",
    "            # Build the updated Q-values for the sampled future states\n",
    "            # Use the target model for stability\n",
    "            future_rewards = model_target.predict(state_next_sample)\n",
    "            # Q value = reward + discount factor * expected future reward\n",
    "            updated_q_values = rewards_sample + discount * tf.reduce_max(future_rewards, axis=1)\n",
    "\n",
    "            # If final frame set the last value to -1\n",
    "            updated_q_values = updated_q_values * (1 - done_sample) - done_sample\n",
    "\n",
    "            # Create a mask so we only calculate loss on the updated Q-values\n",
    "            masks = tf.one_hot(action_sample, number_of_action)\n",
    "\n",
    "            with tf.GradientTape() as tape:\n",
    "                # Train the model on the states and updated Q-values\n",
    "                q_values = model(state_sample)\n",
    "\n",
    "                # Apply the masks to the Q-values to get the Q-value for action taken\n",
    "                q_action = tf.reduce_sum(tf.multiply(q_values, masks), axis=1)\n",
    "                # Calculate loss between new Q-value and old Q-value\n",
    "                loss = loss_function(updated_q_values, q_action)\n",
    "\n",
    "            # Backpropagation\n",
    "            grads = tape.gradient(loss, model.trainable_variables)\n",
    "            optimizer.apply_gradients(zip(grads, model.trainable_variables))\n",
    "\n",
    "        ###############################\n",
    "        # Update the target-Network\n",
    "\n",
    "        if step_counter % update_target_network == 0:\n",
    "            \n",
    "            # update the the target network with new weights\n",
    "            model_target.set_weights(model.get_weights())\n",
    "\n",
    "        ###############################\n",
    "        # Delete the 10'000 oldest replays from buffer history when bigger than allowed \n",
    "\n",
    "        if len(done_history) > max_memory_length:\n",
    "            \n",
    "            del action_history[:10000]\n",
    "            del state_history[:10000]\n",
    "            del state_next_history[:10000]\n",
    "            del rewards_history[:10000]\n",
    "            del done_history[:10000]\n",
    "\n",
    "    return episode_reward,epsilon"
   ]
  },
  {
   "cell_type": "code",
   "execution_count": 29,
   "metadata": {},
   "outputs": [
    {
     "name": "stderr",
     "output_type": "stream",
     "text": [
      "100%|██████████| 10000/10000 [3:33:16<00:00,  1.28s/it] \n"
     ]
    },
    {
     "name": "stdout",
     "output_type": "stream",
     "text": [
      "INFO:tensorflow:Assets written to: ../../../Tests/networks/extended_q_network/assets\n",
      "INFO:tensorflow:Assets written to: ../../../Tests/networks/extended_target_network/assets\n"
     ]
    }
   ],
   "source": [
    "epsilon = 1.0  # Epsilon greedy parameter\n",
    "\n",
    "# improves training time\n",
    "optimizer = optimizers.Adam(learning_rate=0.00025, clipnorm=1.0)\n",
    "\n",
    "# Experience replay buffers\n",
    "action_history = []\n",
    "state_history = []\n",
    "state_next_history = []\n",
    "rewards_history = []\n",
    "done_history = []\n",
    "\n",
    "episode_reward_history = []\n",
    "\n",
    "# Using huber loss for stability\n",
    "loss_function = losses.Huber()\n",
    "\n",
    "# number of epoch\n",
    "#nb_iterations = 50000\n",
    "nb_iterations = 10000\n",
    "#nb_iterations = 70\n",
    "\n",
    "for i in tqdm(range(nb_iterations)):\n",
    "\n",
    "    r_episode,epsilon = play_epoch(env=env,epsilon=epsilon,action_history=action_history,state_history=state_history,\n",
    "    state_next_history=state_next_history,done_history=done_history,rewards_history=rewards_history)\n",
    "    episode_reward_history.append(r_episode)\n",
    "\n",
    "model.save(\"../../../Tests/networks/extended_q_network\")\n",
    "model_target.save(\"../../../Tests/networks/extended_target_network\")\n"
   ]
  },
  {
   "cell_type": "markdown",
   "metadata": {},
   "source": [
    "### Visualize results"
   ]
  },
  {
   "cell_type": "code",
   "execution_count": 30,
   "metadata": {},
   "outputs": [
    {
     "data": {
      "text/plain": [
       "[<matplotlib.lines.Line2D at 0x7f19ee023850>]"
      ]
     },
     "execution_count": 30,
     "metadata": {},
     "output_type": "execute_result"
    },
    {
     "data": {
      "image/png": "[encoded data removed]",
      "text/plain": [
       "<Figure size 432x288 with 1 Axes>"
      ]
     },
     "metadata": {
      "needs_background": "light"
     },
     "output_type": "display_data"
    }
   ],
   "source": [
    "N = 10\n",
    "plt.plot(range(len(episode_reward_history)), episode_reward_history)\n",
    "plt.plot(np.convolve(np.array(episode_reward_history), np.ones(N)/N, mode='valid'))"
   ]
  },
  {
   "cell_type": "markdown",
   "metadata": {},
   "source": [
    "## Play the game with the trained agent"
   ]
  },
  {
   "cell_type": "code",
   "execution_count": 13,
   "metadata": {},
   "outputs": [],
   "source": [
    "def play_game(env,max_steps_per_epoch = 10000,render = False):\n",
    "\n",
    "    state = env.reset()\n",
    "    episode_reward = 0\n",
    "    \n",
    "    done = False\n",
    "    step_counter = 0\n",
    "\n",
    "    while not done and step_counter < max_steps_per_epoch:\n",
    "        \n",
    "        step_counter += 1\n",
    "        \n",
    "        ###############################\n",
    "        # Show\n",
    "        \n",
    "        if render: env.render()\n",
    "\n",
    "        ###############################\n",
    "        # Select Action\n",
    "\n",
    "        state_tensor = tf.convert_to_tensor(state)\n",
    "        state_tensor = tf.expand_dims(state_tensor, 0)\n",
    "        action_probs = model(state_tensor, training=False)\n",
    "        # Take best action\n",
    "        action = tf.argmax(action_probs[0]).numpy()\n",
    "\n",
    "        ###############################\n",
    "        # Act in the env\n",
    "\n",
    "        state_next, reward, done, _ = env.step(action)\n",
    "\n",
    "        ###############################\n",
    "        # Store reward for that run\n",
    "\n",
    "        episode_reward += reward    \n",
    "\n",
    "        ###############################\n",
    "        # Slow render\n",
    "\n",
    "        if render: time.sleep(0.5)\n",
    "\n",
    "        ###############################\n",
    "        # Update state\n",
    "\n",
    "        state = state_next\n",
    "\n",
    "\n",
    "    return episode_reward"
   ]
  },
  {
   "cell_type": "code",
   "execution_count": 33,
   "metadata": {},
   "outputs": [
    {
     "data": {
      "text/plain": [
       "-20"
      ]
     },
     "execution_count": 33,
     "metadata": {},
     "output_type": "execute_result"
    }
   ],
   "source": [
    "play_game(env=env,render=True)"
   ]
  },
  {
   "cell_type": "code",
   "execution_count": null,
   "metadata": {},
   "outputs": [],
   "source": []
  }
 ],
 "metadata": {
  "interpreter": {
   "hash": "202e66e9ea6f8941fe8ae8fdf73f377ae764a2738e0cb9fa82204b883cc85544"
  },
  "kernelspec": {
   "display_name": "Python 3.9.12 ('rl')",
   "language": "python",
   "name": "python3"
  },
  "language_info": {
   "codemirror_mode": {
    "name": "ipython",
    "version": 3
   },
   "file_extension": ".py",
   "mimetype": "text/x-python",
   "name": "python",
   "nbconvert_exporter": "python",
   "pygments_lexer": "ipython3",
   "version": "3.9.12"
  },
  "orig_nbformat": 4
 },
 "nbformat": 4,
 "nbformat_minor": 2
}
