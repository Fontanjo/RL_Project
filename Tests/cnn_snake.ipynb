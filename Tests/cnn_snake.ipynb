{
 "cells": [
  {
   "cell_type": "code",
   "execution_count": 10,
   "metadata": {},
   "outputs": [],
   "source": [
    "import pandas as pd\n",
    "import numpy as np\n",
    "import matplotlib.pyplot as plt\n",
    "import gym\n",
    "\n",
    "#import gym_Snake\n",
    "\n",
    "import keras as kr"
   ]
  },
  {
   "cell_type": "code",
   "execution_count": 32,
   "metadata": {},
   "outputs": [],
   "source": [
    "#input_shape = (obs.shape)\n",
    "input_shape = (10,10,1)\n",
    "\n",
    "output = 3\n",
    "\n",
    "\n",
    "# Classic 3L CNN into 2 dense output layer serving as Deep Q Network\n",
    "# 3 conv2D layer into maxpooling into flatten into 2 denses layers\n",
    "\n",
    "# Can remove the max pooling maybe, and change last layer softmax -> linear if simpler needed\n",
    "model = kr.models.Sequential(\n",
    "    [\n",
    "        kr.layers.Input(shape=input_shape),\n",
    "        kr.layers.Conv2D(32, kernel_size=(3, 3),activation=\"relu\"),\n",
    "        kr.layers.Conv2D(64, kernel_size=(3, 3),activation=\"relu\"),\n",
    "        kr.layers.Conv2D(128, kernel_size=(3, 3),activation=\"relu\"),\n",
    "        kr.layers.MaxPooling2D(pool_size=(2,2)),\n",
    "        kr.layers.Flatten(),\n",
    "        kr.layers.Dense(256,activation=\"relu\"),\n",
    "        kr.layers.Dense(output,activation=\"softmax\"),\n",
    "        \n",
    "    ]\n",
    ")"
   ]
  },
  {
   "cell_type": "code",
   "execution_count": 33,
   "metadata": {},
   "outputs": [
    {
     "name": "stdout",
     "output_type": "stream",
     "text": [
      "Model: \"sequential_15\"\n",
      "_________________________________________________________________\n",
      "Layer (type)                 Output Shape              Param #   \n",
      "=================================================================\n",
      "conv2d_45 (Conv2D)           (None, 8, 8, 32)          320       \n",
      "_________________________________________________________________\n",
      "conv2d_46 (Conv2D)           (None, 6, 6, 64)          18496     \n",
      "_________________________________________________________________\n",
      "conv2d_47 (Conv2D)           (None, 4, 4, 128)         73856     \n",
      "_________________________________________________________________\n",
      "max_pooling2d_13 (MaxPooling (None, 2, 2, 128)         0         \n",
      "_________________________________________________________________\n",
      "flatten_15 (Flatten)         (None, 512)               0         \n",
      "_________________________________________________________________\n",
      "dense_30 (Dense)             (None, 256)               131328    \n",
      "_________________________________________________________________\n",
      "dense_31 (Dense)             (None, 3)                 771       \n",
      "=================================================================\n",
      "Total params: 224,771\n",
      "Trainable params: 224,771\n",
      "Non-trainable params: 0\n",
      "_________________________________________________________________\n"
     ]
    }
   ],
   "source": [
    "model.summary()"
   ]
  },
  {
   "cell_type": "code",
   "execution_count": 7,
   "metadata": {},
   "outputs": [
    {
     "ename": "NameNotFound",
     "evalue": "Environment `Snake` doesn't exist.",
     "output_type": "error",
     "traceback": [
      "\u001b[0;31m---------------------------------------------------------------------------\u001b[0m",
      "\u001b[0;31mNameNotFound\u001b[0m                              Traceback (most recent call last)",
      "\u001b[1;32m/home/vincent/unifr/sp22/rl_dm/RL_Project/Tests/cnn_snake.ipynb Cell 2'\u001b[0m in \u001b[0;36m<cell line: 1>\u001b[0;34m()\u001b[0m\n\u001b[0;32m----> <a href='vscode-notebook-cell://wsl%2Bubuntu/home/vincent/unifr/sp22/rl_dm/RL_Project/Tests/cnn_snake.ipynb#ch0000001vscode-remote?line=0'>1</a>\u001b[0m env \u001b[39m=\u001b[39m gym\u001b[39m.\u001b[39;49mmake(\u001b[39m'\u001b[39;49m\u001b[39mSnake-v0\u001b[39;49m\u001b[39m'\u001b[39;49m, \n\u001b[1;32m      <a href='vscode-notebook-cell://wsl%2Bubuntu/home/vincent/unifr/sp22/rl_dm/RL_Project/Tests/cnn_snake.ipynb#ch0000001vscode-remote?line=1'>2</a>\u001b[0m                player\u001b[39m=\u001b[39;49m\u001b[39m'\u001b[39;49m\u001b[39mcomputer\u001b[39;49m\u001b[39m'\u001b[39;49m, \n\u001b[1;32m      <a href='vscode-notebook-cell://wsl%2Bubuntu/home/vincent/unifr/sp22/rl_dm/RL_Project/Tests/cnn_snake.ipynb#ch0000001vscode-remote?line=2'>3</a>\u001b[0m                shape\u001b[39m=\u001b[39;49m\u001b[39m'\u001b[39;49m\u001b[39mNormal\u001b[39;49m\u001b[39m'\u001b[39;49m, \n\u001b[1;32m      <a href='vscode-notebook-cell://wsl%2Bubuntu/home/vincent/unifr/sp22/rl_dm/RL_Project/Tests/cnn_snake.ipynb#ch0000001vscode-remote?line=3'>4</a>\u001b[0m                state_mode\u001b[39m=\u001b[39;49m\u001b[39m'\u001b[39;49m\u001b[39mstates\u001b[39;49m\u001b[39m'\u001b[39;49m, \n\u001b[1;32m      <a href='vscode-notebook-cell://wsl%2Bubuntu/home/vincent/unifr/sp22/rl_dm/RL_Project/Tests/cnn_snake.ipynb#ch0000001vscode-remote?line=4'>5</a>\u001b[0m                reward_mode \u001b[39m=\u001b[39;49m \u001b[39m'\u001b[39;49m\u001b[39mextended\u001b[39;49m\u001b[39m'\u001b[39;49m, \n\u001b[1;32m      <a href='vscode-notebook-cell://wsl%2Bubuntu/home/vincent/unifr/sp22/rl_dm/RL_Project/Tests/cnn_snake.ipynb#ch0000001vscode-remote?line=5'>6</a>\u001b[0m                width\u001b[39m=\u001b[39;49m\u001b[39m9\u001b[39;49m, \n\u001b[1;32m      <a href='vscode-notebook-cell://wsl%2Bubuntu/home/vincent/unifr/sp22/rl_dm/RL_Project/Tests/cnn_snake.ipynb#ch0000001vscode-remote?line=6'>7</a>\u001b[0m                height\u001b[39m=\u001b[39;49m\u001b[39m9\u001b[39;49m, \n\u001b[1;32m      <a href='vscode-notebook-cell://wsl%2Bubuntu/home/vincent/unifr/sp22/rl_dm/RL_Project/Tests/cnn_snake.ipynb#ch0000001vscode-remote?line=7'>8</a>\u001b[0m                solid_border\u001b[39m=\u001b[39;49m\u001b[39mTrue\u001b[39;49;00m)\n\u001b[1;32m      <a href='vscode-notebook-cell://wsl%2Bubuntu/home/vincent/unifr/sp22/rl_dm/RL_Project/Tests/cnn_snake.ipynb#ch0000001vscode-remote?line=8'>9</a>\u001b[0m \u001b[39mprint\u001b[39m(env\u001b[39m.\u001b[39mobservation_space)\n\u001b[1;32m     <a href='vscode-notebook-cell://wsl%2Bubuntu/home/vincent/unifr/sp22/rl_dm/RL_Project/Tests/cnn_snake.ipynb#ch0000001vscode-remote?line=9'>10</a>\u001b[0m \u001b[39mprint\u001b[39m(env\u001b[39m.\u001b[39maction_space)\n",
      "File \u001b[0;32m~/miniconda3/envs/rl/lib/python3.9/site-packages/gym/envs/registration.py:676\u001b[0m, in \u001b[0;36mmake\u001b[0;34m(id, **kwargs)\u001b[0m\n\u001b[1;32m    <a href='file:///home/vincent/miniconda3/envs/rl/lib/python3.9/site-packages/gym/envs/registration.py?line=674'>675</a>\u001b[0m \u001b[39mdef\u001b[39;00m \u001b[39mmake\u001b[39m(\u001b[39mid\u001b[39m: \u001b[39mstr\u001b[39m, \u001b[39m*\u001b[39m\u001b[39m*\u001b[39mkwargs) \u001b[39m-\u001b[39m\u001b[39m>\u001b[39m \u001b[39m\"\u001b[39m\u001b[39mEnv\u001b[39m\u001b[39m\"\u001b[39m:\n\u001b[0;32m--> <a href='file:///home/vincent/miniconda3/envs/rl/lib/python3.9/site-packages/gym/envs/registration.py?line=675'>676</a>\u001b[0m     \u001b[39mreturn\u001b[39;00m registry\u001b[39m.\u001b[39;49mmake(\u001b[39mid\u001b[39;49m, \u001b[39m*\u001b[39;49m\u001b[39m*\u001b[39;49mkwargs)\n",
      "File \u001b[0;32m~/miniconda3/envs/rl/lib/python3.9/site-packages/gym/envs/registration.py:490\u001b[0m, in \u001b[0;36mEnvRegistry.make\u001b[0;34m(self, path, **kwargs)\u001b[0m\n\u001b[1;32m    <a href='file:///home/vincent/miniconda3/envs/rl/lib/python3.9/site-packages/gym/envs/registration.py?line=486'>487</a>\u001b[0m namespace, name, version \u001b[39m=\u001b[39m parse_env_id(path)\n\u001b[1;32m    <a href='file:///home/vincent/miniconda3/envs/rl/lib/python3.9/site-packages/gym/envs/registration.py?line=488'>489</a>\u001b[0m \u001b[39m# Get all versions of this spec.\u001b[39;00m\n\u001b[0;32m--> <a href='file:///home/vincent/miniconda3/envs/rl/lib/python3.9/site-packages/gym/envs/registration.py?line=489'>490</a>\u001b[0m versions \u001b[39m=\u001b[39m \u001b[39mself\u001b[39;49m\u001b[39m.\u001b[39;49menv_specs\u001b[39m.\u001b[39;49mversions(namespace, name)\n\u001b[1;32m    <a href='file:///home/vincent/miniconda3/envs/rl/lib/python3.9/site-packages/gym/envs/registration.py?line=491'>492</a>\u001b[0m \u001b[39m# We check what the latest version of the environment is and display\u001b[39;00m\n\u001b[1;32m    <a href='file:///home/vincent/miniconda3/envs/rl/lib/python3.9/site-packages/gym/envs/registration.py?line=492'>493</a>\u001b[0m \u001b[39m# a warning if the user is attempting to initialize an older version\u001b[39;00m\n\u001b[1;32m    <a href='file:///home/vincent/miniconda3/envs/rl/lib/python3.9/site-packages/gym/envs/registration.py?line=493'>494</a>\u001b[0m \u001b[39m# or an unversioned one.\u001b[39;00m\n\u001b[1;32m    <a href='file:///home/vincent/miniconda3/envs/rl/lib/python3.9/site-packages/gym/envs/registration.py?line=494'>495</a>\u001b[0m latest_versioned_spec \u001b[39m=\u001b[39m \u001b[39mmax\u001b[39m(\n\u001b[1;32m    <a href='file:///home/vincent/miniconda3/envs/rl/lib/python3.9/site-packages/gym/envs/registration.py?line=495'>496</a>\u001b[0m     \u001b[39mfilter\u001b[39m(\u001b[39mlambda\u001b[39;00m spec: spec\u001b[39m.\u001b[39mversion, versions),\n\u001b[1;32m    <a href='file:///home/vincent/miniconda3/envs/rl/lib/python3.9/site-packages/gym/envs/registration.py?line=496'>497</a>\u001b[0m     key\u001b[39m=\u001b[39m\u001b[39mlambda\u001b[39;00m spec: cast(\u001b[39mint\u001b[39m, spec\u001b[39m.\u001b[39mversion),\n\u001b[1;32m    <a href='file:///home/vincent/miniconda3/envs/rl/lib/python3.9/site-packages/gym/envs/registration.py?line=497'>498</a>\u001b[0m     default\u001b[39m=\u001b[39m\u001b[39mNone\u001b[39;00m,\n\u001b[1;32m    <a href='file:///home/vincent/miniconda3/envs/rl/lib/python3.9/site-packages/gym/envs/registration.py?line=498'>499</a>\u001b[0m )\n",
      "File \u001b[0;32m~/miniconda3/envs/rl/lib/python3.9/site-packages/gym/envs/registration.py:220\u001b[0m, in \u001b[0;36mEnvSpecTree.versions\u001b[0;34m(self, namespace, name)\u001b[0m\n\u001b[1;32m    <a href='file:///home/vincent/miniconda3/envs/rl/lib/python3.9/site-packages/gym/envs/registration.py?line=202'>203</a>\u001b[0m \u001b[39mdef\u001b[39;00m \u001b[39mversions\u001b[39m(\u001b[39mself\u001b[39m, namespace: Optional[\u001b[39mstr\u001b[39m], name: \u001b[39mstr\u001b[39m) \u001b[39m-\u001b[39m\u001b[39m>\u001b[39m Sequence[EnvSpec]:\n\u001b[1;32m    <a href='file:///home/vincent/miniconda3/envs/rl/lib/python3.9/site-packages/gym/envs/registration.py?line=203'>204</a>\u001b[0m     \u001b[39m\"\"\"\u001b[39;00m\n\u001b[1;32m    <a href='file:///home/vincent/miniconda3/envs/rl/lib/python3.9/site-packages/gym/envs/registration.py?line=204'>205</a>\u001b[0m \u001b[39m    Returns the versions associated with a namespace and name.\u001b[39;00m\n\u001b[1;32m    <a href='file:///home/vincent/miniconda3/envs/rl/lib/python3.9/site-packages/gym/envs/registration.py?line=205'>206</a>\u001b[0m \n\u001b[0;32m   (...)\u001b[0m\n\u001b[1;32m    <a href='file:///home/vincent/miniconda3/envs/rl/lib/python3.9/site-packages/gym/envs/registration.py?line=217'>218</a>\u001b[0m \u001b[39m    See `gym/envs/__relocated__.py` for more info.\u001b[39;00m\n\u001b[1;32m    <a href='file:///home/vincent/miniconda3/envs/rl/lib/python3.9/site-packages/gym/envs/registration.py?line=218'>219</a>\u001b[0m \u001b[39m    \"\"\"\u001b[39;00m\n\u001b[0;32m--> <a href='file:///home/vincent/miniconda3/envs/rl/lib/python3.9/site-packages/gym/envs/registration.py?line=219'>220</a>\u001b[0m     \u001b[39mself\u001b[39;49m\u001b[39m.\u001b[39;49m_assert_name_exists(namespace, name)\n\u001b[1;32m    <a href='file:///home/vincent/miniconda3/envs/rl/lib/python3.9/site-packages/gym/envs/registration.py?line=221'>222</a>\u001b[0m     versions \u001b[39m=\u001b[39m \u001b[39mlist\u001b[39m(\u001b[39mself\u001b[39m\u001b[39m.\u001b[39mtree[namespace][name]\u001b[39m.\u001b[39mvalues())\n\u001b[1;32m    <a href='file:///home/vincent/miniconda3/envs/rl/lib/python3.9/site-packages/gym/envs/registration.py?line=223'>224</a>\u001b[0m     \u001b[39mif\u001b[39;00m namespace \u001b[39mis\u001b[39;00m \u001b[39mNone\u001b[39;00m \u001b[39mand\u001b[39;00m name \u001b[39min\u001b[39;00m internal_env_relocation_map:\n",
      "File \u001b[0;32m~/miniconda3/envs/rl/lib/python3.9/site-packages/gym/envs/registration.py:297\u001b[0m, in \u001b[0;36mEnvSpecTree._assert_name_exists\u001b[0;34m(self, namespace, name)\u001b[0m\n\u001b[1;32m    <a href='file:///home/vincent/miniconda3/envs/rl/lib/python3.9/site-packages/gym/envs/registration.py?line=294'>295</a>\u001b[0m         message \u001b[39m+\u001b[39m\u001b[39m=\u001b[39m \u001b[39mf\u001b[39m\u001b[39m\"\u001b[39m\u001b[39m Did you mean: `\u001b[39m\u001b[39m{\u001b[39;00msuggestions[\u001b[39m0\u001b[39m]\u001b[39m}\u001b[39;00m\u001b[39m`?\u001b[39m\u001b[39m\"\u001b[39m\n\u001b[1;32m    <a href='file:///home/vincent/miniconda3/envs/rl/lib/python3.9/site-packages/gym/envs/registration.py?line=295'>296</a>\u001b[0m \u001b[39m# Throw the error\u001b[39;00m\n\u001b[0;32m--> <a href='file:///home/vincent/miniconda3/envs/rl/lib/python3.9/site-packages/gym/envs/registration.py?line=296'>297</a>\u001b[0m \u001b[39mraise\u001b[39;00m error\u001b[39m.\u001b[39mNameNotFound(message)\n",
      "\u001b[0;31mNameNotFound\u001b[0m: Environment `Snake` doesn't exist."
     ]
    }
   ],
   "source": [
    "\n",
    "env = gym.make('Snake-v0', \n",
    "               player='computer', \n",
    "               shape='Normal', \n",
    "               state_mode='states', \n",
    "               reward_mode = 'extended', \n",
    "               width=9, \n",
    "               height=9, \n",
    "               solid_border=True)\n",
    "print(env.observation_space)\n",
    "print(env.action_space)\n",
    "\n"
   ]
  },
  {
   "cell_type": "code",
   "execution_count": null,
   "metadata": {},
   "outputs": [],
   "source": []
  }
 ],
 "metadata": {
  "interpreter": {
   "hash": "202e66e9ea6f8941fe8ae8fdf73f377ae764a2738e0cb9fa82204b883cc85544"
  },
  "kernelspec": {
   "display_name": "Python 3.9.12 ('rl')",
   "language": "python",
   "name": "python3"
  },
  "language_info": {
   "codemirror_mode": {
    "name": "ipython",
    "version": 3
   },
   "file_extension": ".py",
   "mimetype": "text/x-python",
   "name": "python",
   "nbconvert_exporter": "python",
   "pygments_lexer": "ipython3",
   "version": "3.9.12"
  },
  "orig_nbformat": 4
 },
 "nbformat": 4,
 "nbformat_minor": 2
}
