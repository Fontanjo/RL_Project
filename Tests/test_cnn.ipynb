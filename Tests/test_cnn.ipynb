{
 "cells": [
  {
   "cell_type": "code",
   "execution_count": 48,
   "metadata": {},
   "outputs": [],
   "source": [
    "import pandas as pd\n",
    "import numpy as np\n",
    "import matplotlib.pyplot as plt\n",
    "import gym\n",
    "import random\n",
    "import time\n",
    "from tqdm import tqdm\n",
    "\n",
    "import gym_Snake\n",
    "\n",
    "from keras import layers,Model,optimizers,losses\n",
    "import tensorflow as tf"
   ]
  },
  {
   "cell_type": "code",
   "execution_count": 49,
   "metadata": {},
   "outputs": [],
   "source": [
    "env_reward = {\"REWARD_TARGET\":1,\n",
    "    \"REWARD_COLLISION\":-1,\n",
    "    \"REWARD_TOWARD\":1/10,\n",
    "    \"REWARD_AWAY\":-1/10}"
   ]
  },
  {
   "cell_type": "code",
   "execution_count": 4,
   "metadata": {},
   "outputs": [
    {
     "name": "stdout",
     "output_type": "stream",
     "text": [
      "Discrete(100)\n",
      "Discrete(3)\n"
     ]
    }
   ],
   "source": [
    "env = gym.make('Snake-v0', \n",
    "               player='player', \n",
    "               shape='Normal', \n",
    "               state_mode='matrix', \n",
    "               reward_mode = 'extended', \n",
    "               width=10, \n",
    "               height=10, \n",
    "               solid_border=True,\n",
    "               rewards=reward)\n",
    "print(env.observation_space)\n",
    "print(env.action_space)"
   ]
  },
  {
   "cell_type": "markdown",
   "metadata": {},
   "source": [
    "Maybe input is too small for convolution. Trying by playing on a 16x16 -> scaled up to 64x64"
   ]
  },
  {
   "cell_type": "code",
   "execution_count": 16,
   "metadata": {},
   "outputs": [
    {
     "data": {
      "text/plain": [
       "array([[1, 2],\n",
       "       [3, 4]])"
      ]
     },
     "execution_count": 16,
     "metadata": {},
     "output_type": "execute_result"
    }
   ],
   "source": [
    "test = np.array([[1,2],[3,4]])\n",
    "test"
   ]
  },
  {
   "cell_type": "code",
   "execution_count": 48,
   "metadata": {},
   "outputs": [
    {
     "data": {
      "text/plain": [
       "array([[1, 1, 1, 1, 2, 2, 2, 2],\n",
       "       [1, 1, 1, 1, 2, 2, 2, 2],\n",
       "       [1, 1, 1, 1, 2, 2, 2, 2],\n",
       "       [1, 1, 1, 1, 2, 2, 2, 2],\n",
       "       [3, 3, 3, 3, 4, 4, 4, 4],\n",
       "       [3, 3, 3, 3, 4, 4, 4, 4],\n",
       "       [3, 3, 3, 3, 4, 4, 4, 4],\n",
       "       [3, 3, 3, 3, 4, 4, 4, 4]])"
      ]
     },
     "execution_count": 48,
     "metadata": {},
     "output_type": "execute_result"
    }
   ],
   "source": [
    "test2 = test.repeat(4,axis=0).repeat(4,axis=1)\n",
    "test2"
   ]
  },
  {
   "cell_type": "code",
   "execution_count": 56,
   "metadata": {},
   "outputs": [],
   "source": [
    "#input_shape = (obs.shape)\n",
    "\n",
    "input_matrix = (64,64,1,)\n",
    "\n",
    "number_of_action = 3\n",
    "\n",
    "\n",
    "# Classic 3L CNN into 2 dense output layer serving as Deep Q Network\n",
    "# 3 conv2D layer into maxpooling into flatten into 2 denses layers\n",
    "\n",
    "# Can remove the max pooling maybe, and change last layer softmax -> linear if simpler needed\n",
    "# Archi based on different readings // assumed similar difficulties as MNIST personal implementation\n",
    "\n",
    "def create_Q_network():\n",
    "\n",
    "    inputs = layers.Input(shape=input_matrix)\n",
    "\n",
    "    # CNN layers\n",
    "    layer1 = layers.Conv2D(32, kernel_size=(3, 3),activation=\"relu\")(inputs)\n",
    "    layer2 = layers.Conv2D(64, kernel_size=(3, 3),activation=\"relu\")(layer1)\n",
    "    layer3 = layers.Conv2D(128, kernel_size=(3, 3),activation=\"relu\")(layer2)\n",
    "\n",
    "    # Max Pooling which can probably be removed \n",
    "    #layer4 = layers.MaxPooling2D(pool_size=(4,4))(layer3)\n",
    "\n",
    "    # Flatten \n",
    "    layer5 = layers.Flatten()(layer3)\n",
    "\n",
    "    # Dense layer to predict the action\n",
    "    layer6 = layers.Dense(256,activation=\"relu\")(layer5)\n",
    "    action = layers.Dense(number_of_action,activation=\"linear\")(layer6)\n",
    "\n",
    "    return Model(inputs=inputs,outputs=action)"
   ]
  },
  {
   "cell_type": "code",
   "execution_count": 5,
   "metadata": {},
   "outputs": [],
   "source": [
    "#input_shape = (obs.shape)\n",
    "\n",
    "input_matrix = (20,20,1,)\n",
    "\n",
    "number_of_action = 3\n",
    "\n",
    "\n",
    "# Classic 3L CNN into 2 dense output layer serving as Deep Q Network\n",
    "# 3 conv2D layer into maxpooling into flatten into 2 denses layers\n",
    "\n",
    "# Can remove the max pooling maybe, and change last layer softmax -> linear if simpler needed\n",
    "# Archi based on different readings // assumed similar difficulties as MNIST personal implementation\n",
    "\n",
    "def create_small_Q_network():\n",
    "\n",
    "    inputs = layers.Input(shape=input_matrix)\n",
    "\n",
    "    # CNN layers\n",
    "    layer1 = layers.Conv2D(32, kernel_size=(3, 3),activation=\"relu\")(inputs)\n",
    "    layer2 = layers.Conv2D(64, kernel_size=(3, 3),activation=\"relu\")(layer1)\n",
    "    #layer3 = layers.Conv2D(128, kernel_size=(3, 3),activation=\"relu\")(layer2)\n",
    "\n",
    "    # Max Pooling which can probably be removed \n",
    "    #layer4 = layers.MaxPooling2D(pool_size=(2,2))(layer3)\n",
    "\n",
    "    # Flatten \n",
    "    layer5 = layers.Flatten()(layer2)\n",
    "\n",
    "    # Dense layer to predict the action\n",
    "    layer6 = layers.Dense(128,activation=\"relu\")(layer5)\n",
    "    action = layers.Dense(number_of_action,activation=\"softmax\")(layer6)\n",
    "\n",
    "    return Model(inputs=inputs,outputs=action)\n"
   ]
  },
  {
   "cell_type": "code",
   "execution_count": 6,
   "metadata": {},
   "outputs": [
    {
     "name": "stdout",
     "output_type": "stream",
     "text": [
      "Model: \"model\"\n",
      "_________________________________________________________________\n",
      "Layer (type)                 Output Shape              Param #   \n",
      "=================================================================\n",
      "input_1 (InputLayer)         [(None, 20, 20, 1)]       0         \n",
      "_________________________________________________________________\n",
      "conv2d (Conv2D)              (None, 18, 18, 32)        320       \n",
      "_________________________________________________________________\n",
      "conv2d_1 (Conv2D)            (None, 16, 16, 64)        18496     \n",
      "_________________________________________________________________\n",
      "flatten (Flatten)            (None, 16384)             0         \n",
      "_________________________________________________________________\n",
      "dense (Dense)                (None, 128)               2097280   \n",
      "_________________________________________________________________\n",
      "dense_1 (Dense)              (None, 3)                 387       \n",
      "=================================================================\n",
      "Total params: 2,116,483\n",
      "Trainable params: 2,116,483\n",
      "Non-trainable params: 0\n",
      "_________________________________________________________________\n"
     ]
    },
    {
     "name": "stderr",
     "output_type": "stream",
     "text": [
      "2022-05-18 09:52:02.838725: I tensorflow/compiler/jit/xla_cpu_device.cc:41] Not creating XLA devices, tf_xla_enable_xla_devices not set\n",
      "2022-05-18 09:52:02.838867: I tensorflow/core/platform/cpu_feature_guard.cc:142] This TensorFlow binary is optimized with oneAPI Deep Neural Network Library (oneDNN) to use the following CPU instructions in performance-critical operations:  SSE4.1 SSE4.2 AVX AVX2 FMA\n",
      "To enable them in other operations, rebuild TensorFlow with the appropriate compiler flags.\n",
      "2022-05-18 09:52:02.840426: I tensorflow/core/common_runtime/process_util.cc:146] Creating new thread pool with default inter op setting: 2. Tune using inter_op_parallelism_threads for best performance.\n"
     ]
    }
   ],
   "source": [
    "model = create_small_Q_network()\n",
    "\n",
    "model.summary()"
   ]
  },
  {
   "cell_type": "code",
   "execution_count": 7,
   "metadata": {},
   "outputs": [
    {
     "name": "stdout",
     "output_type": "stream",
     "text": [
      "Model: \"model_1\"\n",
      "_________________________________________________________________\n",
      "Layer (type)                 Output Shape              Param #   \n",
      "=================================================================\n",
      "input_2 (InputLayer)         [(None, 20, 20, 1)]       0         \n",
      "_________________________________________________________________\n",
      "conv2d_2 (Conv2D)            (None, 18, 18, 32)        320       \n",
      "_________________________________________________________________\n",
      "conv2d_3 (Conv2D)            (None, 16, 16, 64)        18496     \n",
      "_________________________________________________________________\n",
      "flatten_1 (Flatten)          (None, 16384)             0         \n",
      "_________________________________________________________________\n",
      "dense_2 (Dense)              (None, 128)               2097280   \n",
      "_________________________________________________________________\n",
      "dense_3 (Dense)              (None, 3)                 387       \n",
      "=================================================================\n",
      "Total params: 2,116,483\n",
      "Trainable params: 2,116,483\n",
      "Non-trainable params: 0\n",
      "_________________________________________________________________\n"
     ]
    }
   ],
   "source": [
    "model_target = create_small_Q_network()\n",
    "\n",
    "model_target.summary()"
   ]
  },
  {
   "cell_type": "code",
   "execution_count": 9,
   "metadata": {},
   "outputs": [],
   "source": [
    "loss_function = losses.Huber()\n",
    "optimizer = optimizers.Adam(learning_rate=0.00025, clipnorm=1.0)\n",
    "\n",
    "def play_epoch(env,replay_buffer,frame_number,epoch_number,Q_update,target_update, discount = 0.99,max_steps_per_epoch = 1000,\n",
    "epsilon_min = 0.0002,explo_games = 5000,epsilon_games = 15000,render = False):\n",
    "\n",
    "    state = env.reset().repeat(2,axis=0).repeat(2,axis=1)\n",
    "    \n",
    "    episode_reward = 0\n",
    "    \n",
    "    done = False\n",
    "\n",
    "    step_counter = 0\n",
    "    random_action_counter = 0\n",
    "\n",
    "    #################################\n",
    "    ## Change to modify the model training\n",
    "    \n",
    "    # How many frame to recover from the replay buffer\n",
    "    batch_size = 64\n",
    "    # Train the model after 4 actions\n",
    "    update_Q_network = 4\n",
    "    # How often to update the target network\n",
    "    update_target_network = 10000\n",
    "    # Replay buffer size\n",
    "    max_memory_length = 1000000\n",
    "\n",
    "    # Decay the epsilon only after each new games, rather than each frames of the games, probably not too relevant\n",
    "\n",
    "    ###############################\n",
    "    # Epsilon decay\n",
    "\n",
    "    # Decay probability of taking random action\n",
    "    epsilon = 1. - (epoch_number / epsilon_games)\n",
    "    epsilon = max(epsilon, epsilon_min)\n",
    "\n",
    "    while not done and step_counter < max_steps_per_epoch:\n",
    "        \n",
    "        step_counter += 1\n",
    "        frame_number += 1\n",
    "\n",
    "        ###############################\n",
    "        # Show\n",
    "        \n",
    "        if render: env.render()\n",
    "\n",
    "        ###############################\n",
    "        # Select Action\n",
    "\n",
    "        # Use epsilon greedy for exploration, \n",
    "        # also in the beginning for \"epsilon_random_frames\" always random\n",
    "        if epoch_number < explo_games or epsilon > random.random():\n",
    "            # Take random action\n",
    "            action = np.random.choice(number_of_action)\n",
    "            random_action_counter += 1\n",
    "        else:\n",
    "            # Predict action Q-values\n",
    "            # From environment state\n",
    "            state_tensor = tf.convert_to_tensor(state)\n",
    "            state_tensor = tf.expand_dims(state_tensor, 0)\n",
    "            action_probs = model(state_tensor, training=False)\n",
    "            # Take best action\n",
    "            action = tf.argmax(action_probs[0]).numpy()\n",
    "\n",
    "        \n",
    "\n",
    "        ###############################\n",
    "        # Act in the env\n",
    "\n",
    "        state_next, reward, done, _ = env.step(action)\n",
    "        state_next = state_next.repeat(2,axis=0).repeat(2,axis=1)\n",
    "\n",
    "        ###############################\n",
    "        # Store reward for that run\n",
    "\n",
    "        episode_reward += reward    \n",
    "\n",
    "        ###############################\n",
    "        # Slow render\n",
    "        if render: time.sleep(0.5)\n",
    "\n",
    "        ###############################\n",
    "        # Save actions and states in replay buffer\n",
    "        \n",
    "        replay_buffer.append([state,action,reward,state_next,done])\n",
    " \n",
    "        state = state_next\n",
    "\n",
    "        ###############################\n",
    "        # Update the Q-Network\n",
    "\n",
    "        # Only once every 4 frames (good tradeoff between speed and efficiency of training)\n",
    "        # and only when the buffer is at least 32 (the size of the batch)\n",
    "        \n",
    "        # Update every fourth frame and once batch size is over 32\n",
    "        if frame_number % update_Q_network == 0 and len(replay_buffer) > batch_size:\n",
    "\n",
    "            Q_update += 1\n",
    "            # Get indices of samples for replay buffers\n",
    "            samples = random.sample(replay_buffer,batch_size)\n",
    "\n",
    "            # Sample from replay buffer\n",
    "            action_sample = []\n",
    "            state_sample = []\n",
    "            state_next_sample = []\n",
    "            rewards_sample = []\n",
    "            done_sample = []\n",
    "\n",
    "            for sample in samples:\n",
    "                s, a, r, s_t, d = sample\n",
    "                action_sample.append(a)\n",
    "                state_sample.append(s)\n",
    "                state_next_sample.append(s_t)\n",
    "                rewards_sample.append(r)\n",
    "                done_sample.append(float(d))\n",
    "\n",
    "            state_sample = np.array(state_sample)\n",
    "            state_next_sample = np.array(state_next_sample)\n",
    "            done_sample = tf.convert_to_tensor(done_sample)\n",
    "\n",
    "            # Build the updated Q-values for the sampled future states\n",
    "            # Use the target model for stability\n",
    "            future_rewards = model_target.predict(state_next_sample)\n",
    "            # Q value = reward + discount factor * expected future reward\n",
    "            updated_q_values = rewards_sample + discount * tf.reduce_max(future_rewards, axis=1)\n",
    "\n",
    "            # If final frame set the last value to -1\n",
    "            updated_q_values = updated_q_values * (1 - done_sample) - done_sample\n",
    "\n",
    "            # Create a mask so we only calculate loss on the updated Q-values\n",
    "            masks = tf.one_hot(action_sample, number_of_action)\n",
    "\n",
    "            with tf.GradientTape() as tape:\n",
    "                # Train the model on the states and updated Q-values\n",
    "                q_values = model(state_sample)\n",
    "\n",
    "                # Apply the masks to the Q-values to get the Q-value for action taken\n",
    "                q_action = tf.reduce_sum(tf.multiply(q_values, masks), axis=1)\n",
    "                # Calculate loss between new Q-value and old Q-value\n",
    "                loss = loss_function(updated_q_values, q_action)\n",
    "\n",
    "            # Backpropagation\n",
    "            grads = tape.gradient(loss, model.trainable_variables)\n",
    "            optimizer.apply_gradients(zip(grads, model.trainable_variables))\n",
    "\n",
    "        ###############################\n",
    "        # Update the target-Network\n",
    "\n",
    "        if frame_number % update_target_network == 0:\n",
    "            \n",
    "            target_update += 1\n",
    "            # update the the target network with new weights\n",
    "            model_target.set_weights(model.get_weights())\n",
    "\n",
    "        ###############################\n",
    "        # Delete the 1'000 oldest replays from buffer history when bigger than allowed \n",
    "\n",
    "        if len(replay_buffer) > max_memory_length:\n",
    "            \n",
    "            del replay_buffer[:1000]\n",
    "        \n",
    "\n",
    "    return episode_reward,frame_number,epsilon,random_action_counter,Q_update,target_update"
   ]
  },
  {
   "cell_type": "code",
   "execution_count": 23,
   "metadata": {},
   "outputs": [
    {
     "name": "stderr",
     "output_type": "stream",
     "text": [
      "  0%|          | 5/30000 [00:00<20:16, 24.65it/s]"
     ]
    },
    {
     "name": "stdout",
     "output_type": "stream",
     "text": [
      "Epoch 0, len of replay buffer 19, current epsilon 1.0, number of played frames 19\n",
      "Number of Q_network update 0,number of target update 0\n",
      "Reward over the last 50 rounds-1.6\n"
     ]
    },
    {
     "name": "stderr",
     "output_type": "stream",
     "text": [
      "  3%|▎         | 1001/30000 [10:50<5:50:55,  1.38it/s]"
     ]
    },
    {
     "name": "stdout",
     "output_type": "stream",
     "text": [
      "Epoch 1000, len of replay buffer 13776, current epsilon 0.9333333333333333, number of played frames 13776\n",
      "Number of Q_network update 3428,number of target update 1\n",
      "Reward over the last 50 rounds-1.044\n"
     ]
    },
    {
     "name": "stderr",
     "output_type": "stream",
     "text": [
      "  7%|▋         | 2001/30000 [21:20<3:49:39,  2.03it/s] "
     ]
    },
    {
     "name": "stdout",
     "output_type": "stream",
     "text": [
      "Epoch 2000, len of replay buffer 27353, current epsilon 0.8666666666666667, number of played frames 27353\n",
      "Number of Q_network update 6822,number of target update 2\n",
      "Reward over the last 50 rounds-0.9739999999999999\n"
     ]
    },
    {
     "name": "stderr",
     "output_type": "stream",
     "text": [
      " 10%|█         | 3001/30000 [31:47<3:31:26,  2.13it/s] "
     ]
    },
    {
     "name": "stdout",
     "output_type": "stream",
     "text": [
      "Epoch 3000, len of replay buffer 40780, current epsilon 0.8, number of played frames 40780\n",
      "Number of Q_network update 10179,number of target update 4\n",
      "Reward over the last 50 rounds-1.026\n"
     ]
    },
    {
     "name": "stderr",
     "output_type": "stream",
     "text": [
      " 13%|█▎        | 4002/30000 [42:32<2:48:48,  2.57it/s] "
     ]
    },
    {
     "name": "stdout",
     "output_type": "stream",
     "text": [
      "Epoch 4000, len of replay buffer 54452, current epsilon 0.7333333333333334, number of played frames 54452\n",
      "Number of Q_network update 13597,number of target update 5\n",
      "Reward over the last 50 rounds-1.078\n"
     ]
    },
    {
     "name": "stderr",
     "output_type": "stream",
     "text": [
      " 17%|█▋        | 5001/30000 [53:09<4:50:08,  1.44it/s]"
     ]
    },
    {
     "name": "stdout",
     "output_type": "stream",
     "text": [
      "Epoch 5000, len of replay buffer 67952, current epsilon 0.6666666666666667, number of played frames 67952\n",
      "Number of Q_network update 16972,number of target update 6\n",
      "Reward over the last 50 rounds-0.9220000000000002\n"
     ]
    },
    {
     "name": "stderr",
     "output_type": "stream",
     "text": [
      " 20%|██        | 6001/30000 [1:06:49<3:13:49,  2.06it/s] "
     ]
    },
    {
     "name": "stdout",
     "output_type": "stream",
     "text": [
      "Epoch 6000, len of replay buffer 84678, current epsilon 0.6, number of played frames 84678\n",
      "Number of Q_network update 21153,number of target update 8\n",
      "Reward over the last 50 rounds-0.24799999999999994\n"
     ]
    },
    {
     "name": "stderr",
     "output_type": "stream",
     "text": [
      " 23%|██▎       | 7001/30000 [1:21:12<3:10:32,  2.01it/s] "
     ]
    },
    {
     "name": "stdout",
     "output_type": "stream",
     "text": [
      "Epoch 7000, len of replay buffer 101642, current epsilon 0.5333333333333333, number of played frames 101642\n",
      "Number of Q_network update 25394,number of target update 10\n",
      "Reward over the last 50 rounds0.13800000000000004\n"
     ]
    },
    {
     "name": "stderr",
     "output_type": "stream",
     "text": [
      " 27%|██▋       | 8001/30000 [1:36:29<4:47:05,  1.28it/s] "
     ]
    },
    {
     "name": "stdout",
     "output_type": "stream",
     "text": [
      "Epoch 8000, len of replay buffer 119273, current epsilon 0.4666666666666667, number of played frames 119273\n",
      "Number of Q_network update 29802,number of target update 11\n",
      "Reward over the last 50 rounds0.4340000000000001\n"
     ]
    },
    {
     "name": "stderr",
     "output_type": "stream",
     "text": [
      " 30%|███       | 9001/30000 [1:52:31<10:28:30,  1.80s/it]"
     ]
    },
    {
     "name": "stdout",
     "output_type": "stream",
     "text": [
      "Epoch 9000, len of replay buffer 137439, current epsilon 0.4, number of played frames 137439\n",
      "Number of Q_network update 34343,number of target update 13\n",
      "Reward over the last 50 rounds0.7140000000000002\n"
     ]
    },
    {
     "name": "stderr",
     "output_type": "stream",
     "text": [
      " 33%|███▎      | 10001/30000 [2:07:19<6:57:47,  1.25s/it]"
     ]
    },
    {
     "name": "stdout",
     "output_type": "stream",
     "text": [
      "Epoch 10000, len of replay buffer 155829, current epsilon 0.33333333333333337, number of played frames 155829\n",
      "Number of Q_network update 38941,number of target update 15\n",
      "Reward over the last 50 rounds1.0859999999999999\n"
     ]
    },
    {
     "name": "stderr",
     "output_type": "stream",
     "text": [
      " 37%|███▋      | 11001/30000 [2:23:43<5:48:08,  1.10s/it] "
     ]
    },
    {
     "name": "stdout",
     "output_type": "stream",
     "text": [
      "Epoch 11000, len of replay buffer 176229, current epsilon 0.2666666666666667, number of played frames 176229\n",
      "Number of Q_network update 44041,number of target update 17\n",
      "Reward over the last 50 rounds1.5980000000000003\n"
     ]
    },
    {
     "name": "stderr",
     "output_type": "stream",
     "text": [
      " 40%|████      | 12001/30000 [2:41:31<5:51:56,  1.17s/it] "
     ]
    },
    {
     "name": "stdout",
     "output_type": "stream",
     "text": [
      "Epoch 12000, len of replay buffer 198457, current epsilon 0.19999999999999996, number of played frames 198457\n",
      "Number of Q_network update 49598,number of target update 19\n",
      "Reward over the last 50 rounds2.6060000000000003\n"
     ]
    },
    {
     "name": "stderr",
     "output_type": "stream",
     "text": [
      " 43%|████▎     | 13002/30000 [3:02:09<3:51:16,  1.22it/s] "
     ]
    },
    {
     "name": "stdout",
     "output_type": "stream",
     "text": [
      "Epoch 13000, len of replay buffer 223914, current epsilon 0.1333333333333333, number of played frames 223914\n",
      "Number of Q_network update 55962,number of target update 22\n",
      "Reward over the last 50 rounds3.0\n"
     ]
    },
    {
     "name": "stderr",
     "output_type": "stream",
     "text": [
      " 47%|████▋     | 14001/30000 [3:27:51<7:40:48,  1.73s/it] "
     ]
    },
    {
     "name": "stdout",
     "output_type": "stream",
     "text": [
      "Epoch 14000, len of replay buffer 255720, current epsilon 0.06666666666666665, number of played frames 255720\n",
      "Number of Q_network update 63914,number of target update 25\n",
      "Reward over the last 50 rounds4.451999999999998\n"
     ]
    },
    {
     "name": "stderr",
     "output_type": "stream",
     "text": [
      " 50%|█████     | 15001/30000 [4:11:32<52:17:37, 12.55s/it] "
     ]
    },
    {
     "name": "stdout",
     "output_type": "stream",
     "text": [
      "Epoch 15000, len of replay buffer 309691, current epsilon 0.0002, number of played frames 309691\n",
      "Number of Q_network update 77406,number of target update 30\n",
      "Reward over the last 50 rounds6.907999999999996\n"
     ]
    },
    {
     "name": "stderr",
     "output_type": "stream",
     "text": [
      " 53%|█████▎    | 16001/30000 [6:26:21<14:49:42,  3.81s/it] "
     ]
    },
    {
     "name": "stdout",
     "output_type": "stream",
     "text": [
      "Epoch 16000, len of replay buffer 476616, current epsilon 0.0002, number of played frames 476616\n",
      "Number of Q_network update 119138,number of target update 47\n",
      "Reward over the last 50 rounds7.321999999999997\n"
     ]
    },
    {
     "name": "stderr",
     "output_type": "stream",
     "text": [
      " 57%|█████▋    | 17001/30000 [8:39:41<15:06:10,  4.18s/it] "
     ]
    },
    {
     "name": "stdout",
     "output_type": "stream",
     "text": [
      "Epoch 17000, len of replay buffer 635937, current epsilon 0.0002, number of played frames 635937\n",
      "Number of Q_network update 158968,number of target update 63\n",
      "Reward over the last 50 rounds8.323999999999996\n"
     ]
    },
    {
     "name": "stderr",
     "output_type": "stream",
     "text": [
      " 60%|██████    | 18001/30000 [10:49:07<38:41:57, 11.61s/it] "
     ]
    },
    {
     "name": "stdout",
     "output_type": "stream",
     "text": [
      "Epoch 18000, len of replay buffer 787586, current epsilon 0.0002, number of played frames 787586\n",
      "Number of Q_network update 196880,number of target update 78\n",
      "Reward over the last 50 rounds9.943999999999994\n"
     ]
    },
    {
     "name": "stderr",
     "output_type": "stream",
     "text": [
      " 63%|██████▎   | 19001/30000 [12:48:05<20:18:11,  6.65s/it]"
     ]
    },
    {
     "name": "stdout",
     "output_type": "stream",
     "text": [
      "Epoch 19000, len of replay buffer 925991, current epsilon 0.0002, number of played frames 925991\n",
      "Number of Q_network update 231481,number of target update 92\n",
      "Reward over the last 50 rounds10.079999999999995\n"
     ]
    },
    {
     "name": "stderr",
     "output_type": "stream",
     "text": [
      " 67%|██████▋   | 20001/30000 [15:01:02<18:29:34,  6.66s/it]"
     ]
    },
    {
     "name": "stdout",
     "output_type": "stream",
     "text": [
      "Epoch 20000, len of replay buffer 999379, current epsilon 0.0002, number of played frames 1080379\n",
      "Number of Q_network update 270078,number of target update 108\n",
      "Reward over the last 50 rounds11.083999999999994\n"
     ]
    },
    {
     "name": "stderr",
     "output_type": "stream",
     "text": [
      " 70%|███████   | 21001/30000 [17:14:37<12:49:24,  5.13s/it]"
     ]
    },
    {
     "name": "stdout",
     "output_type": "stream",
     "text": [
      "Epoch 21000, len of replay buffer 999691, current epsilon 0.0002, number of played frames 1237691\n",
      "Number of Q_network update 309406,number of target update 123\n",
      "Reward over the last 50 rounds9.431999999999995\n"
     ]
    },
    {
     "name": "stderr",
     "output_type": "stream",
     "text": [
      " 73%|███████▎  | 22001/30000 [19:37:17<43:38:28, 19.64s/it]"
     ]
    },
    {
     "name": "stdout",
     "output_type": "stream",
     "text": [
      "Epoch 22000, len of replay buffer 999222, current epsilon 0.0002, number of played frames 1405222\n",
      "Number of Q_network update 351289,number of target update 140\n",
      "Reward over the last 50 rounds10.745999999999995\n"
     ]
    },
    {
     "name": "stderr",
     "output_type": "stream",
     "text": [
      " 77%|███████▋  | 23001/30000 [21:50:50<8:51:17,  4.55s/it] "
     ]
    },
    {
     "name": "stdout",
     "output_type": "stream",
     "text": [
      "Epoch 23000, len of replay buffer 999136, current epsilon 0.0002, number of played frames 1563136\n",
      "Number of Q_network update 390768,number of target update 156\n",
      "Reward over the last 50 rounds10.729999999999995\n"
     ]
    },
    {
     "name": "stderr",
     "output_type": "stream",
     "text": [
      " 80%|████████  | 24001/30000 [23:52:52<30:20:45, 18.21s/it]"
     ]
    },
    {
     "name": "stdout",
     "output_type": "stream",
     "text": [
      "Epoch 24000, len of replay buffer 999220, current epsilon 0.0002, number of played frames 1706220\n",
      "Number of Q_network update 426539,number of target update 170\n",
      "Reward over the last 50 rounds10.009999999999996\n"
     ]
    },
    {
     "name": "stderr",
     "output_type": "stream",
     "text": [
      " 83%|████████▎ | 25001/30000 [26:02:48<12:32:28,  9.03s/it]"
     ]
    },
    {
     "name": "stdout",
     "output_type": "stream",
     "text": [
      "Epoch 25000, len of replay buffer 999940, current epsilon 0.0002, number of played frames 1858940\n",
      "Number of Q_network update 464719,number of target update 185\n",
      "Reward over the last 50 rounds12.335999999999995\n"
     ]
    },
    {
     "name": "stderr",
     "output_type": "stream",
     "text": [
      " 87%|████████▋ | 26001/30000 [28:12:17<5:55:46,  5.34s/it] "
     ]
    },
    {
     "name": "stdout",
     "output_type": "stream",
     "text": [
      "Epoch 26000, len of replay buffer 999495, current epsilon 0.0002, number of played frames 2010495\n",
      "Number of Q_network update 502607,number of target update 201\n",
      "Reward over the last 50 rounds11.355999999999996\n"
     ]
    },
    {
     "name": "stderr",
     "output_type": "stream",
     "text": [
      " 90%|█████████ | 27001/30000 [30:04:53<7:31:44,  9.04s/it] "
     ]
    },
    {
     "name": "stdout",
     "output_type": "stream",
     "text": [
      "Epoch 27000, len of replay buffer 999642, current epsilon 0.0002, number of played frames 2142642\n",
      "Number of Q_network update 535644,number of target update 214\n",
      "Reward over the last 50 rounds12.249999999999998\n"
     ]
    },
    {
     "name": "stderr",
     "output_type": "stream",
     "text": [
      " 93%|█████████▎| 28001/30000 [32:10:20<2:10:28,  3.92s/it] "
     ]
    },
    {
     "name": "stdout",
     "output_type": "stream",
     "text": [
      "Epoch 28000, len of replay buffer 999870, current epsilon 0.0002, number of played frames 2289870\n",
      "Number of Q_network update 572451,number of target update 228\n",
      "Reward over the last 50 rounds12.325999999999999\n"
     ]
    },
    {
     "name": "stderr",
     "output_type": "stream",
     "text": [
      " 97%|█████████▋| 29001/30000 [34:18:10<1:13:58,  4.44s/it] "
     ]
    },
    {
     "name": "stdout",
     "output_type": "stream",
     "text": [
      "Epoch 29000, len of replay buffer 999967, current epsilon 0.0002, number of played frames 2439967\n",
      "Number of Q_network update 609975,number of target update 243\n",
      "Reward over the last 50 rounds12.526\n"
     ]
    },
    {
     "name": "stderr",
     "output_type": "stream",
     "text": [
      "100%|██████████| 30000/30000 [36:26:13<00:00,  4.37s/it]  \n"
     ]
    },
    {
     "name": "stdout",
     "output_type": "stream",
     "text": [
      "INFO:tensorflow:Assets written to: ../Tests/networks/small_q_network/assets\n",
      "INFO:tensorflow:Assets written to: ../Tests/networks/small_target_network/assets\n"
     ]
    }
   ],
   "source": [
    "\n",
    "# Experience replay buffers\n",
    "replay_buffer = []\n",
    "\n",
    "\n",
    "episode_reward_history = []\n",
    "episode_epsilon_history = []\n",
    "episode_random_action_history = []\n",
    "# Using huber loss for stability\n",
    "loss_function = losses.Huber()\n",
    "\n",
    "# number of epoch\n",
    "#nb_iterations = 50000\n",
    "nb_iterations = 30000\n",
    "#nb_iterations = 10\n",
    "\n",
    "frame_number = 0\n",
    "\n",
    "Q_update = 0\n",
    "target_update = 0\n",
    "\n",
    "for i in tqdm(range(nb_iterations)):\n",
    "\n",
    "    r_episode,frame_number,epsilon,random_action,Q_update,target_update = play_epoch(env=env,replay_buffer=replay_buffer,frame_number=frame_number,\n",
    "    epoch_number=i,Q_update=Q_update,target_update=target_update)\n",
    "    episode_reward_history.append(r_episode)\n",
    "    episode_epsilon_history.append(epsilon)\n",
    "    episode_random_action_history.append(random_action)\n",
    "\n",
    "    if i % 1000 == 0:\n",
    "\n",
    "        print(\"Epoch {}, len of replay buffer {}, current epsilon {}, number of played frames {}\".format(i,len(replay_buffer),epsilon,frame_number))\n",
    "        print(\"Number of Q_network update {},number of target update {}\".format(Q_update,target_update))\n",
    "        print(\"Reward over the last 50 rounds{}\".format(np.array(episode_reward_history[-50:]).mean()))\n",
    "model.save(\"../Tests/networks/small_q_network\")\n",
    "model_target.save(\"../Tests/networks/small_target_network\")\n"
   ]
  },
  {
   "cell_type": "code",
   "execution_count": 24,
   "metadata": {},
   "outputs": [
    {
     "data": {
      "text/plain": [
       "[<matplotlib.lines.Line2D at 0x7f9709b8d4f0>]"
      ]
     },
     "execution_count": 24,
     "metadata": {},
     "output_type": "execute_result"
    },
    {
     "data": {
      "image/png": "[encoded data removed]",
      "text/plain": [
       "<Figure size 432x288 with 1 Axes>"
      ]
     },
     "metadata": {
      "needs_background": "light"
     },
     "output_type": "display_data"
    }
   ],
   "source": [
    "N = 50\n",
    "plt.plot(range(len(episode_reward_history)), episode_reward_history)\n",
    "plt.plot(np.convolve(np.array(episode_reward_history), np.ones(N)/N, mode='valid'))"
   ]
  },
  {
   "cell_type": "code",
   "execution_count": 25,
   "metadata": {},
   "outputs": [
    {
     "data": {
      "text/plain": [
       "[<matplotlib.lines.Line2D at 0x7f97641931c0>]"
      ]
     },
     "execution_count": 25,
     "metadata": {},
     "output_type": "execute_result"
    },
    {
     "data": {
      "image/png": "[encoded data removed]",
      "text/plain": [
       "<Figure size 432x288 with 1 Axes>"
      ]
     },
     "metadata": {
      "needs_background": "light"
     },
     "output_type": "display_data"
    }
   ],
   "source": [
    "N = 50\n",
    "plt.plot(range(len(episode_epsilon_history)), episode_epsilon_history)\n",
    "plt.plot(np.convolve(np.array(episode_epsilon_history), np.ones(N)/N, mode='valid'))"
   ]
  },
  {
   "cell_type": "code",
   "execution_count": 26,
   "metadata": {},
   "outputs": [
    {
     "data": {
      "text/plain": [
       "[<matplotlib.lines.Line2D at 0x7f970d7ca430>]"
      ]
     },
     "execution_count": 26,
     "metadata": {},
     "output_type": "execute_result"
    },
    {
     "data": {
      "image/png": "[encoded data removed]",
      "text/plain": [
       "<Figure size 432x288 with 1 Axes>"
      ]
     },
     "metadata": {
      "needs_background": "light"
     },
     "output_type": "display_data"
    }
   ],
   "source": [
    "N = 50\n",
    "plt.plot(range(len(episode_random_action_history)), episode_random_action_history)\n",
    "plt.plot(np.convolve(np.array(episode_random_action_history), np.ones(N)/N, mode='valid'))"
   ]
  },
  {
   "cell_type": "code",
   "execution_count": 75,
   "metadata": {},
   "outputs": [],
   "source": [
    "input_matrix = (64,64,1,)\n",
    "\n",
    "number_of_action = 3\n",
    "model = tf.keras.models.load_model(\"../../../Tests/networks/10x_classic_30k_smallQ\", compile=False)"
   ]
  },
  {
   "cell_type": "code",
   "execution_count": 76,
   "metadata": {},
   "outputs": [
    {
     "name": "stdout",
     "output_type": "stream",
     "text": [
      "Model: \"model\"\n",
      "_________________________________________________________________\n",
      "Layer (type)                 Output Shape              Param #   \n",
      "=================================================================\n",
      "input_1 (InputLayer)         [(None, 20, 20, 1)]       0         \n",
      "_________________________________________________________________\n",
      "conv2d (Conv2D)              (None, 18, 18, 32)        320       \n",
      "_________________________________________________________________\n",
      "conv2d_1 (Conv2D)            (None, 16, 16, 64)        18496     \n",
      "_________________________________________________________________\n",
      "flatten (Flatten)            (None, 16384)             0         \n",
      "_________________________________________________________________\n",
      "dense (Dense)                (None, 128)               2097280   \n",
      "_________________________________________________________________\n",
      "dense_1 (Dense)              (None, 3)                 387       \n",
      "=================================================================\n",
      "Total params: 2,116,483\n",
      "Trainable params: 2,116,483\n",
      "Non-trainable params: 0\n",
      "_________________________________________________________________\n"
     ]
    }
   ],
   "source": [
    "model.summary()"
   ]
  },
  {
   "cell_type": "code",
   "execution_count": 71,
   "metadata": {},
   "outputs": [
    {
     "name": "stdout",
     "output_type": "stream",
     "text": [
      "INFO:tensorflow:Assets written to: ../Tests/networks/10x_classic_30k_smallQ/assets\n"
     ]
    }
   ],
   "source": [
    "model.save(\"../Tests/networks/10x_classic_30k_smallQ\")"
   ]
  },
  {
   "cell_type": "code",
   "execution_count": 9,
   "metadata": {},
   "outputs": [
    {
     "data": {
      "text/plain": [
       "Discrete(3)"
      ]
     },
     "execution_count": 9,
     "metadata": {},
     "output_type": "execute_result"
    }
   ],
   "source": [
    "env.action_space"
   ]
  },
  {
   "cell_type": "code",
   "execution_count": null,
   "metadata": {},
   "outputs": [],
   "source": []
  },
  {
   "cell_type": "code",
   "execution_count": 9,
   "metadata": {},
   "outputs": [
    {
     "data": {
      "text/plain": [
       "array([[1, 1, 1, 1, 1, 1, 1, 1, 1, 1, 1, 1, 1, 1, 1, 1, 1, 1, 1, 1],\n",
       "       [1, 1, 1, 1, 1, 1, 1, 1, 1, 1, 1, 1, 1, 1, 1, 1, 1, 1, 1, 1],\n",
       "       [1, 1, 0, 0, 0, 0, 0, 0, 0, 0, 0, 0, 0, 0, 0, 0, 0, 0, 1, 1],\n",
       "       [1, 1, 0, 0, 0, 0, 0, 0, 0, 0, 0, 0, 0, 0, 0, 0, 0, 0, 1, 1],\n",
       "       [1, 1, 2, 2, 0, 0, 0, 0, 0, 0, 0, 0, 0, 0, 0, 0, 0, 0, 1, 1],\n",
       "       [1, 1, 2, 2, 0, 0, 0, 0, 0, 0, 0, 0, 0, 0, 0, 0, 0, 0, 1, 1],\n",
       "       [1, 1, 0, 0, 0, 0, 0, 0, 0, 0, 0, 0, 0, 0, 0, 0, 0, 0, 1, 1],\n",
       "       [1, 1, 0, 0, 0, 0, 0, 0, 0, 0, 0, 0, 0, 0, 0, 0, 0, 0, 1, 1],\n",
       "       [1, 1, 0, 0, 0, 0, 0, 0, 8, 8, 3, 3, 0, 0, 0, 0, 0, 0, 1, 1],\n",
       "       [1, 1, 0, 0, 0, 0, 0, 0, 8, 8, 3, 3, 0, 0, 0, 0, 0, 0, 1, 1],\n",
       "       [1, 1, 0, 0, 0, 0, 0, 0, 0, 0, 0, 0, 0, 0, 0, 0, 0, 0, 1, 1],\n",
       "       [1, 1, 0, 0, 0, 0, 0, 0, 0, 0, 0, 0, 0, 0, 0, 0, 0, 0, 1, 1],\n",
       "       [1, 1, 0, 0, 0, 0, 0, 0, 0, 0, 0, 0, 0, 0, 0, 0, 0, 0, 1, 1],\n",
       "       [1, 1, 0, 0, 0, 0, 0, 0, 0, 0, 0, 0, 0, 0, 0, 0, 0, 0, 1, 1],\n",
       "       [1, 1, 0, 0, 0, 0, 0, 0, 0, 0, 0, 0, 0, 0, 0, 0, 0, 0, 1, 1],\n",
       "       [1, 1, 0, 0, 0, 0, 0, 0, 0, 0, 0, 0, 0, 0, 0, 0, 0, 0, 1, 1],\n",
       "       [1, 1, 0, 0, 0, 0, 0, 0, 0, 0, 0, 0, 0, 0, 0, 0, 0, 0, 1, 1],\n",
       "       [1, 1, 0, 0, 0, 0, 0, 0, 0, 0, 0, 0, 0, 0, 0, 0, 0, 0, 1, 1],\n",
       "       [1, 1, 1, 1, 1, 1, 1, 1, 1, 1, 1, 1, 1, 1, 1, 1, 1, 1, 1, 1],\n",
       "       [1, 1, 1, 1, 1, 1, 1, 1, 1, 1, 1, 1, 1, 1, 1, 1, 1, 1, 1, 1]])"
      ]
     },
     "execution_count": 9,
     "metadata": {},
     "output_type": "execute_result"
    }
   ],
   "source": [
    "state = env.reset().repeat(2,axis=0).repeat(2,axis=1)\n",
    "state"
   ]
  },
  {
   "cell_type": "code",
   "execution_count": 10,
   "metadata": {},
   "outputs": [
    {
     "data": {
      "text/plain": [
       "1"
      ]
     },
     "execution_count": 10,
     "metadata": {},
     "output_type": "execute_result"
    }
   ],
   "source": [
    "state_tensor = tf.convert_to_tensor(state)\n",
    "state_tensor = tf.expand_dims(state_tensor, 0)\n",
    "action_probs = model(state_tensor, training=False)\n",
    "action = tf.argmax(action_probs[0]).numpy()\n",
    "action"
   ]
  },
  {
   "cell_type": "code",
   "execution_count": 11,
   "metadata": {},
   "outputs": [
    {
     "data": {
      "text/plain": [
       "array([[1, 1, 1, 1, 1, 1, 1, 1, 1, 1, 1, 1, 1, 1, 1, 1, 1, 1, 1, 1],\n",
       "       [1, 1, 1, 1, 1, 1, 1, 1, 1, 1, 1, 1, 1, 1, 1, 1, 1, 1, 1, 1],\n",
       "       [1, 1, 0, 0, 0, 0, 0, 0, 0, 0, 0, 0, 0, 0, 0, 0, 0, 0, 1, 1],\n",
       "       [1, 1, 0, 0, 0, 0, 0, 0, 0, 0, 0, 0, 0, 0, 0, 0, 0, 0, 1, 1],\n",
       "       [1, 1, 2, 2, 0, 0, 0, 0, 0, 0, 0, 0, 0, 0, 0, 0, 0, 0, 1, 1],\n",
       "       [1, 1, 2, 2, 0, 0, 0, 0, 0, 0, 0, 0, 0, 0, 0, 0, 0, 0, 1, 1],\n",
       "       [1, 1, 0, 0, 0, 0, 0, 0, 5, 5, 0, 0, 0, 0, 0, 0, 0, 0, 1, 1],\n",
       "       [1, 1, 0, 0, 0, 0, 0, 0, 5, 5, 0, 0, 0, 0, 0, 0, 0, 0, 1, 1],\n",
       "       [1, 1, 0, 0, 0, 0, 0, 0, 3, 3, 0, 0, 0, 0, 0, 0, 0, 0, 1, 1],\n",
       "       [1, 1, 0, 0, 0, 0, 0, 0, 3, 3, 0, 0, 0, 0, 0, 0, 0, 0, 1, 1],\n",
       "       [1, 1, 0, 0, 0, 0, 0, 0, 0, 0, 0, 0, 0, 0, 0, 0, 0, 0, 1, 1],\n",
       "       [1, 1, 0, 0, 0, 0, 0, 0, 0, 0, 0, 0, 0, 0, 0, 0, 0, 0, 1, 1],\n",
       "       [1, 1, 0, 0, 0, 0, 0, 0, 0, 0, 0, 0, 0, 0, 0, 0, 0, 0, 1, 1],\n",
       "       [1, 1, 0, 0, 0, 0, 0, 0, 0, 0, 0, 0, 0, 0, 0, 0, 0, 0, 1, 1],\n",
       "       [1, 1, 0, 0, 0, 0, 0, 0, 0, 0, 0, 0, 0, 0, 0, 0, 0, 0, 1, 1],\n",
       "       [1, 1, 0, 0, 0, 0, 0, 0, 0, 0, 0, 0, 0, 0, 0, 0, 0, 0, 1, 1],\n",
       "       [1, 1, 0, 0, 0, 0, 0, 0, 0, 0, 0, 0, 0, 0, 0, 0, 0, 0, 1, 1],\n",
       "       [1, 1, 0, 0, 0, 0, 0, 0, 0, 0, 0, 0, 0, 0, 0, 0, 0, 0, 1, 1],\n",
       "       [1, 1, 1, 1, 1, 1, 1, 1, 1, 1, 1, 1, 1, 1, 1, 1, 1, 1, 1, 1],\n",
       "       [1, 1, 1, 1, 1, 1, 1, 1, 1, 1, 1, 1, 1, 1, 1, 1, 1, 1, 1, 1]])"
      ]
     },
     "execution_count": 11,
     "metadata": {},
     "output_type": "execute_result"
    }
   ],
   "source": [
    "state_next, reward, done, _ = env.step(action)\n",
    "state_next = state_next.repeat(2,axis=0).repeat(2,axis=1)\n",
    "state_next"
   ]
  },
  {
   "cell_type": "code",
   "execution_count": 57,
   "metadata": {},
   "outputs": [
    {
     "name": "stdout",
     "output_type": "stream",
     "text": [
      "Discrete(100)\n",
      "Discrete(3)\n"
     ]
    }
   ],
   "source": [
    "env_shuriken = gym.make('Snake-v0', \n",
    "               player='player', \n",
    "               shape='Maze', \n",
    "               state_mode='matrix', \n",
    "               reward_mode = 'extended', \n",
    "               width=10, \n",
    "               height=10, \n",
    "               solid_border=True,\n",
    "               rewards=env_reward)\n",
    "print(env.observation_space)\n",
    "print(env.action_space)"
   ]
  },
  {
   "cell_type": "code",
   "execution_count": 58,
   "metadata": {},
   "outputs": [
    {
     "data": {
      "text/plain": [
       "array([[1, 1, 1, 1, 1, 1, 1, 1, 1, 1],\n",
       "       [1, 0, 0, 0, 0, 0, 0, 0, 0, 1],\n",
       "       [1, 0, 0, 0, 0, 0, 0, 2, 0, 1],\n",
       "       [1, 0, 0, 0, 0, 0, 0, 0, 0, 1],\n",
       "       [1, 0, 0, 0, 8, 3, 0, 0, 0, 1],\n",
       "       [1, 0, 0, 0, 0, 0, 0, 0, 0, 1],\n",
       "       [1, 0, 0, 0, 0, 0, 0, 0, 0, 1],\n",
       "       [1, 0, 0, 0, 0, 0, 0, 0, 0, 1],\n",
       "       [1, 0, 0, 0, 0, 0, 0, 0, 0, 1],\n",
       "       [1, 1, 1, 1, 1, 1, 1, 1, 1, 1]])"
      ]
     },
     "execution_count": 58,
     "metadata": {},
     "output_type": "execute_result"
    }
   ],
   "source": [
    "state = env_shuriken.reset()\n",
    "state"
   ]
  },
  {
   "cell_type": "code",
   "execution_count": 53,
   "metadata": {},
   "outputs": [
    {
     "data": {
      "text/plain": [
       "array([[1, 1, 1, 1, 1, 1, 1, 1, 1, 1, 1, 1, 1, 1, 1, 1, 1, 1, 1, 1],\n",
       "       [1, 1, 1, 1, 1, 1, 1, 1, 1, 1, 1, 1, 1, 1, 1, 1, 1, 1, 1, 1],\n",
       "       [1, 1, 0, 0, 0, 0, 0, 0, 0, 0, 0, 0, 0, 0, 0, 0, 0, 0, 1, 1],\n",
       "       [1, 1, 0, 0, 0, 0, 0, 0, 0, 0, 0, 0, 0, 0, 0, 0, 0, 0, 1, 1],\n",
       "       [1, 1, 0, 0, 0, 0, 0, 0, 0, 0, 0, 0, 0, 0, 0, 0, 0, 0, 1, 1],\n",
       "       [1, 1, 0, 0, 0, 0, 0, 0, 0, 0, 0, 0, 0, 0, 0, 0, 0, 0, 1, 1],\n",
       "       [1, 1, 0, 0, 0, 0, 2, 2, 0, 0, 0, 0, 0, 0, 0, 0, 0, 0, 1, 1],\n",
       "       [1, 1, 0, 0, 0, 0, 2, 2, 0, 0, 0, 0, 0, 0, 0, 0, 0, 0, 1, 1],\n",
       "       [1, 1, 0, 0, 0, 0, 0, 0, 8, 8, 3, 3, 0, 0, 0, 0, 0, 0, 1, 1],\n",
       "       [1, 1, 0, 0, 0, 0, 0, 0, 8, 8, 3, 3, 0, 0, 0, 0, 0, 0, 1, 1],\n",
       "       [1, 1, 0, 0, 0, 0, 0, 0, 0, 0, 0, 0, 0, 0, 0, 0, 0, 0, 1, 1],\n",
       "       [1, 1, 0, 0, 0, 0, 0, 0, 0, 0, 0, 0, 0, 0, 0, 0, 0, 0, 1, 1],\n",
       "       [1, 1, 0, 0, 0, 0, 0, 0, 0, 0, 0, 0, 0, 0, 0, 0, 0, 0, 1, 1],\n",
       "       [1, 1, 0, 0, 0, 0, 0, 0, 0, 0, 0, 0, 0, 0, 0, 0, 0, 0, 1, 1],\n",
       "       [1, 1, 0, 0, 0, 0, 0, 0, 0, 0, 0, 0, 0, 0, 0, 0, 0, 0, 1, 1],\n",
       "       [1, 1, 0, 0, 0, 0, 0, 0, 0, 0, 0, 0, 0, 0, 0, 0, 0, 0, 1, 1],\n",
       "       [1, 1, 0, 0, 0, 0, 0, 0, 0, 0, 0, 0, 0, 0, 0, 0, 0, 0, 1, 1],\n",
       "       [1, 1, 0, 0, 0, 0, 0, 0, 0, 0, 0, 0, 0, 0, 0, 0, 0, 0, 1, 1],\n",
       "       [1, 1, 1, 1, 1, 1, 1, 1, 1, 1, 1, 1, 1, 1, 1, 1, 1, 1, 1, 1],\n",
       "       [1, 1, 1, 1, 1, 1, 1, 1, 1, 1, 1, 1, 1, 1, 1, 1, 1, 1, 1, 1]])"
      ]
     },
     "execution_count": 53,
     "metadata": {},
     "output_type": "execute_result"
    }
   ],
   "source": [
    "state = env_shuriken.reset().repeat(2,axis=0).repeat(2,axis=1)\n",
    "state"
   ]
  },
  {
   "cell_type": "code",
   "execution_count": 63,
   "metadata": {},
   "outputs": [],
   "source": [
    "def play_game(env,model,max_steps_per_epoch = 1000,render = False):\n",
    "\n",
    "    \n",
    "    state = env.reset().repeat(2,axis=0).repeat(2,axis=1)\n",
    "    episode_reward = 0\n",
    "    \n",
    "    done = False\n",
    "    step_counter = 0\n",
    "    target_eaten = 0\n",
    "    \n",
    "    \n",
    "    while not done and step_counter < max_steps_per_epoch:\n",
    "        \n",
    "        step_counter += 1\n",
    "        \n",
    "        ###############################\n",
    "        # Show\n",
    "        \n",
    "        if render: env.render()\n",
    "\n",
    "        ###############################\n",
    "        # Select Action\n",
    "\n",
    "        state_tensor = tf.convert_to_tensor(state)\n",
    "        state_tensor = tf.expand_dims(state_tensor, 0)\n",
    "        action_probs = model(state_tensor, training=False)\n",
    "        # Take best action\n",
    "        action = tf.argmax(action_probs[0]).numpy()\n",
    "\n",
    "        ###############################\n",
    "        # Act in the env\n",
    "\n",
    "        state_next, reward, done, _ = env.step(action)\n",
    "        state_next = state_next.repeat(2,axis=0).repeat(2,axis=1)\n",
    "        ###############################\n",
    "        # Store reward for that run\n",
    "\n",
    "        episode_reward += reward  \n",
    "\n",
    "        if reward == 1:\n",
    "            target_eaten += 1  \n",
    "\n",
    "        ###############################\n",
    "        # Slow render\n",
    "\n",
    "        if render: time.sleep(0.5)\n",
    "\n",
    "        ###############################\n",
    "        # Update state\n",
    "\n",
    "        state = state_next\n",
    "\n",
    "\n",
    "    return episode_reward,target_eaten,step_counter"
   ]
  },
  {
   "cell_type": "code",
   "execution_count": 64,
   "metadata": {},
   "outputs": [
    {
     "name": "stderr",
     "output_type": "stream",
     "text": [
      "100%|██████████| 50/50 [00:13<00:00,  3.59it/s]\n"
     ]
    }
   ],
   "source": [
    "reward_history = []\n",
    "target_eaten_history = []\n",
    "frame_survived_history = []\n",
    "\n",
    "nb_game = 50\n",
    "\n",
    "\n",
    "for i in tqdm(range(nb_game)):\n",
    "\n",
    "    r_episode,target_eaten,frame_survived = play_game(env=env_shuriken,model= model,render=False)\n",
    "    reward_history.append(r_episode)\n",
    "    target_eaten_history.append(target_eaten)\n",
    "    frame_survived_history.append(frame_survived)\n",
    "\n",
    "   \n"
   ]
  },
  {
   "cell_type": "code",
   "execution_count": 65,
   "metadata": {},
   "outputs": [
    {
     "data": {
      "text/plain": [
       "[<matplotlib.lines.Line2D at 0x7f200903b550>]"
      ]
     },
     "execution_count": 65,
     "metadata": {},
     "output_type": "execute_result"
    },
    {
     "data": {
      "image/png": "[encoded data removed]",
      "text/plain": [
       "<Figure size 432x288 with 1 Axes>"
      ]
     },
     "metadata": {
      "needs_background": "light"
     },
     "output_type": "display_data"
    }
   ],
   "source": [
    "N = 5\n",
    "plt.plot(range(len(reward_history)), reward_history)\n",
    "plt.plot(np.convolve(np.array(reward_history), np.ones(N)/N, mode='valid'))"
   ]
  },
  {
   "cell_type": "code",
   "execution_count": 66,
   "metadata": {},
   "outputs": [
    {
     "data": {
      "text/plain": [
       "[<matplotlib.lines.Line2D at 0x7f2009011a60>]"
      ]
     },
     "execution_count": 66,
     "metadata": {},
     "output_type": "execute_result"
    },
    {
     "data": {
      "image/png": "[encoded data removed]",
      "text/plain": [
       "<Figure size 432x288 with 1 Axes>"
      ]
     },
     "metadata": {
      "needs_background": "light"
     },
     "output_type": "display_data"
    }
   ],
   "source": [
    "N = 5\n",
    "plt.plot(range(len(frame_survived_history)), frame_survived_history)\n",
    "plt.plot(np.convolve(np.array(frame_survived_history), np.ones(N)/N, mode='valid'))"
   ]
  },
  {
   "cell_type": "code",
   "execution_count": 67,
   "metadata": {},
   "outputs": [
    {
     "data": {
      "text/plain": [
       "[<matplotlib.lines.Line2D at 0x7f2008f7a370>]"
      ]
     },
     "execution_count": 67,
     "metadata": {},
     "output_type": "execute_result"
    },
    {
     "data": {
      "image/png": "[encoded data removed]",
      "text/plain": [
       "<Figure size 432x288 with 1 Axes>"
      ]
     },
     "metadata": {
      "needs_background": "light"
     },
     "output_type": "display_data"
    }
   ],
   "source": [
    "N = 5\n",
    "plt.plot(range(len(target_eaten_history)), target_eaten_history)\n",
    "plt.plot(np.convolve(np.array(target_eaten_history), np.ones(N)/N, mode='valid'))"
   ]
  },
  {
   "cell_type": "code",
   "execution_count": 68,
   "metadata": {},
   "outputs": [
    {
     "name": "stdout",
     "output_type": "stream",
     "text": [
      "Over 50 optimised runs, the snake was able to eat on average 10.82 targets per run, with an optimal run where it was able to eat 20 target in a single run\n"
     ]
    }
   ],
   "source": [
    "print(\"Over 50 optimised runs, the snake was able to eat on average {} targets per run, with an optimal run where it was able to eat {} target in a single run\".format(np.mean(target_eaten_history),np.max(target_eaten_history)))"
   ]
  },
  {
   "cell_type": "code",
   "execution_count": 37,
   "metadata": {},
   "outputs": [
    {
     "data": {
      "text/plain": [
       "(16.79999999999999, 12, 187)"
      ]
     },
     "execution_count": 37,
     "metadata": {},
     "output_type": "execute_result"
    }
   ],
   "source": [
    "play_game(env=env_shuriken,model=model,render=True)"
   ]
  },
  {
   "cell_type": "code",
   "execution_count": 29,
   "metadata": {},
   "outputs": [
    {
     "name": "stdout",
     "output_type": "stream",
     "text": [
      "Discrete(100)\n",
      "Discrete(3)\n"
     ]
    }
   ],
   "source": []
  },
  {
   "cell_type": "code",
   "execution_count": null,
   "metadata": {},
   "outputs": [],
   "source": []
  }
 ],
 "metadata": {
  "interpreter": {
   "hash": "5878580c0dfc98f5d60ef775fdb58049edf8be1a4ec329a09137ad8c2fb9d9b9"
  },
  "kernelspec": {
   "display_name": "Python 3.9.7 ('base')",
   "language": "python",
   "name": "python3"
  },
  "language_info": {
   "codemirror_mode": {
    "name": "ipython",
    "version": 3
   },
   "file_extension": ".py",
   "mimetype": "text/x-python",
   "name": "python",
   "nbconvert_exporter": "python",
   "pygments_lexer": "ipython3",
   "version": "3.9.12"
  },
  "orig_nbformat": 4
 },
 "nbformat": 4,
 "nbformat_minor": 2
}
