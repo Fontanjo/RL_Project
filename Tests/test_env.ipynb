{
 "cells": [
  {
   "cell_type": "code",
   "execution_count": 1,
   "id": "11753b24",
   "metadata": {},
   "outputs": [],
   "source": [
    "import gym\n",
    "import gym_Snake\n",
    "import time\n",
    "import sys\n",
    "from IPython.display import clear_output\n",
    "import numpy as np"
   ]
  },
  {
   "cell_type": "code",
   "execution_count": 2,
   "id": "752abcf2",
   "metadata": {},
   "outputs": [
    {
     "name": "stdout",
     "output_type": "stream",
     "text": [
      "Discrete(240)\n",
      "Discrete(3)\n"
     ]
    }
   ],
   "source": [
    "env = gym.make('Snake-v0', width=20, height=12, solid_border=False)\n",
    "print(env.observation_space)\n",
    "print(env.action_space)"
   ]
  },
  {
   "cell_type": "code",
   "execution_count": 3,
   "id": "538846d0",
   "metadata": {},
   "outputs": [],
   "source": [
    "# env.reset()\n",
    "# if True:\n",
    "#     for i in range(5):\n",
    "#         clear_output(wait=True)\n",
    "#         env.render()\n",
    "#         env.step(np.random.randint(3))\n",
    "#         time.sleep(2)\n",
    "#     time.sleep(2)\n",
    "#     env.close()"
   ]
  },
  {
   "cell_type": "markdown",
   "id": "bc3b0e1f",
   "metadata": {},
   "source": [
    "#### Play with human input"
   ]
  },
  {
   "cell_type": "code",
   "execution_count": 4,
   "id": "6748f3d9",
   "metadata": {
    "scrolled": false
   },
   "outputs": [],
   "source": [
    "# env.reset()\n",
    "# done = False\n",
    "# while not done:\n",
    "# #     clear_output(wait=True)\n",
    "#     env.render()\n",
    "#     act = input('0 continue, 1 right, 2 left')\n",
    "#     obs, reward, done, info = env.step(int(act))\n",
    "# env.close()"
   ]
  },
  {
   "cell_type": "markdown",
   "id": "34d08e1c",
   "metadata": {},
   "source": [
    "#### Play in human mode, with arrows"
   ]
  },
  {
   "cell_type": "code",
   "execution_count": 5,
   "id": "1a6b65f5",
   "metadata": {},
   "outputs": [],
   "source": [
    "myBoard = [[1, 1, 1, 1, 1, 1, 1],\n",
    "           [1, 0, 0, 0, 0, 0, 1],\n",
    "           [1, 0, 0, 0, 0, 0, 1],\n",
    "           [1, 0, 0, 0, 0, 0, 1],\n",
    "           [1, 0, 0, 0, 0, 1, 1],\n",
    "           [1, 0, 0, 0, 1, 1, 1],\n",
    "           [1, 1, 1, 1, 1, 1, 1]]"
   ]
  },
  {
   "cell_type": "code",
   "execution_count": 6,
   "id": "6401d760",
   "metadata": {},
   "outputs": [],
   "source": [
    "# env.reset(mode='human', custom_board=myBoard)"
   ]
  },
  {
   "cell_type": "code",
   "execution_count": 7,
   "id": "9ee407ae",
   "metadata": {},
   "outputs": [
    {
     "ename": "IndexError",
     "evalue": "index 20 is out of bounds for axis 1 with size 20",
     "output_type": "error",
     "traceback": [
      "\u001b[0;31m---------------------------------------------------------------------------\u001b[0m",
      "\u001b[0;31mIndexError\u001b[0m                                Traceback (most recent call last)",
      "Input \u001b[0;32mIn [7]\u001b[0m, in \u001b[0;36m<cell line: 1>\u001b[0;34m()\u001b[0m\n\u001b[0;32m----> 1\u001b[0m \u001b[43menv\u001b[49m\u001b[38;5;241;43m.\u001b[39;49m\u001b[43mreset\u001b[49m\u001b[43m(\u001b[49m\u001b[43mmode\u001b[49m\u001b[38;5;241;43m=\u001b[39;49m\u001b[38;5;124;43m'\u001b[39;49m\u001b[38;5;124;43mhuman\u001b[39;49m\u001b[38;5;124;43m'\u001b[39;49m\u001b[43m,\u001b[49m\u001b[43m \u001b[49m\u001b[43mshape\u001b[49m\u001b[38;5;241;43m=\u001b[39;49m\u001b[38;5;124;43m'\u001b[39;49m\u001b[38;5;124;43mShuriken\u001b[39;49m\u001b[38;5;124;43m'\u001b[39;49m\u001b[43m)\u001b[49m\n",
      "File \u001b[0;32m~/.local/share/virtualenvs/Tests-qIVfeJrl/lib/python3.8/site-packages/gym/wrappers/order_enforcing.py:18\u001b[0m, in \u001b[0;36mOrderEnforcing.reset\u001b[0;34m(self, **kwargs)\u001b[0m\n\u001b[1;32m     16\u001b[0m \u001b[38;5;28;01mdef\u001b[39;00m \u001b[38;5;21mreset\u001b[39m(\u001b[38;5;28mself\u001b[39m, \u001b[38;5;241m*\u001b[39m\u001b[38;5;241m*\u001b[39mkwargs):\n\u001b[1;32m     17\u001b[0m     \u001b[38;5;28mself\u001b[39m\u001b[38;5;241m.\u001b[39m_has_reset \u001b[38;5;241m=\u001b[39m \u001b[38;5;28;01mTrue\u001b[39;00m\n\u001b[0;32m---> 18\u001b[0m     \u001b[38;5;28;01mreturn\u001b[39;00m \u001b[38;5;28;43mself\u001b[39;49m\u001b[38;5;241;43m.\u001b[39;49m\u001b[43menv\u001b[49m\u001b[38;5;241;43m.\u001b[39;49m\u001b[43mreset\u001b[49m\u001b[43m(\u001b[49m\u001b[38;5;241;43m*\u001b[39;49m\u001b[38;5;241;43m*\u001b[39;49m\u001b[43mkwargs\u001b[49m\u001b[43m)\u001b[49m\n",
      "File \u001b[0;32m~/Documents/University/RLDMUU/RL_Project/gym-Snake/gym_Snake/envs/Snake_env.py:148\u001b[0m, in \u001b[0;36mSnakeEnv.reset\u001b[0;34m(self, width, height, solid_border, shape, custom_board, mode)\u001b[0m\n\u001b[1;32m    146\u001b[0m \u001b[38;5;28mself\u001b[39m\u001b[38;5;241m.\u001b[39m__play_mode \u001b[38;5;241m=\u001b[39m mode\n\u001b[1;32m    147\u001b[0m \u001b[38;5;28;01mif\u001b[39;00m mode \u001b[38;5;241m==\u001b[39m \u001b[38;5;124m'\u001b[39m\u001b[38;5;124mhuman\u001b[39m\u001b[38;5;124m'\u001b[39m:\n\u001b[0;32m--> 148\u001b[0m     \u001b[38;5;28;43mself\u001b[39;49m\u001b[38;5;241;43m.\u001b[39;49m\u001b[43m__play_human\u001b[49m\u001b[43m(\u001b[49m\u001b[43m)\u001b[49m\n",
      "File \u001b[0;32m~/Documents/University/RLDMUU/RL_Project/gym-Snake/gym_Snake/envs/Snake_env.py:497\u001b[0m, in \u001b[0;36mSnakeEnv.__play_human\u001b[0;34m(self)\u001b[0m\n\u001b[1;32m    494\u001b[0m                     next_move \u001b[38;5;241m=\u001b[39m \u001b[38;5;241m2\u001b[39m\n\u001b[1;32m    496\u001b[0m \u001b[38;5;66;03m# Move\u001b[39;00m\n\u001b[0;32m--> 497\u001b[0m _, reward, done, _ \u001b[38;5;241m=\u001b[39m \u001b[38;5;28;43mself\u001b[39;49m\u001b[38;5;241;43m.\u001b[39;49m\u001b[43mstep\u001b[49m\u001b[43m(\u001b[49m\u001b[43mnext_move\u001b[49m\u001b[43m)\u001b[49m\n\u001b[1;32m    499\u001b[0m \u001b[38;5;66;03m# Reduce timeout\u001b[39;00m\n\u001b[1;32m    500\u001b[0m \u001b[38;5;28;01mif\u001b[39;00m reward \u001b[38;5;241m==\u001b[39m TARGET_REWARD:\n",
      "File \u001b[0;32m~/Documents/University/RLDMUU/RL_Project/gym-Snake/gym_Snake/envs/Snake_env.py:84\u001b[0m, in \u001b[0;36mSnakeEnv.step\u001b[0;34m(self, action)\u001b[0m\n\u001b[1;32m     82\u001b[0m     new_h_pos \u001b[38;5;241m=\u001b[39m (old_h, old_w \u001b[38;5;241m-\u001b[39m \u001b[38;5;241m1\u001b[39m)\n\u001b[1;32m     83\u001b[0m \u001b[38;5;66;03m# Check if collision\u001b[39;00m\n\u001b[0;32m---> 84\u001b[0m \u001b[38;5;28;01mif\u001b[39;00m \u001b[38;5;28;43mself\u001b[39;49m\u001b[38;5;241;43m.\u001b[39;49m\u001b[43m__board\u001b[49m\u001b[43m[\u001b[49m\u001b[43mnew_h_pos\u001b[49m\u001b[43m]\u001b[49m \u001b[38;5;241m==\u001b[39m WALL \u001b[38;5;129;01mor\u001b[39;00m \u001b[38;5;28mself\u001b[39m\u001b[38;5;241m.\u001b[39m__board[new_h_pos] \u001b[38;5;241m==\u001b[39m BODY:\n\u001b[1;32m     85\u001b[0m     \u001b[38;5;28;01mreturn\u001b[39;00m \u001b[38;5;28mself\u001b[39m\u001b[38;5;241m.\u001b[39m__board\u001b[38;5;241m.\u001b[39mcopy(), COLLISION_REWARD, \u001b[38;5;28;01mTrue\u001b[39;00m, {}\n\u001b[1;32m     86\u001b[0m \u001b[38;5;66;03m# Check if target\u001b[39;00m\n",
      "\u001b[0;31mIndexError\u001b[0m: index 20 is out of bounds for axis 1 with size 20"
     ]
    }
   ],
   "source": [
    "env.reset(mode='human', shape='Shuriken')"
   ]
  },
  {
   "cell_type": "code",
   "execution_count": null,
   "id": "e60313c6",
   "metadata": {},
   "outputs": [],
   "source": []
  }
 ],
 "metadata": {
  "kernelspec": {
   "display_name": "Python 3 (ipykernel)",
   "language": "python",
   "name": "python3"
  },
  "language_info": {
   "codemirror_mode": {
    "name": "ipython",
    "version": 3
   },
   "file_extension": ".py",
   "mimetype": "text/x-python",
   "name": "python",
   "nbconvert_exporter": "python",
   "pygments_lexer": "ipython3",
   "version": "3.8.10"
  }
 },
 "nbformat": 4,
 "nbformat_minor": 5
}
