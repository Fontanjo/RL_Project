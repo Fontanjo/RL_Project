{
 "cells": [
  {
   "cell_type": "code",
   "execution_count": 1,
   "id": "11753b24",
   "metadata": {},
   "outputs": [],
   "source": [
    "import gym\n",
    "import gym_Snake\n",
    "import time\n",
    "import sys\n",
    "from IPython.display import clear_output\n",
    "import numpy as np"
   ]
  },
  {
   "cell_type": "code",
   "execution_count": 2,
   "id": "752abcf2",
   "metadata": {},
   "outputs": [
    {
     "name": "stdout",
     "output_type": "stream",
     "text": [
      "Discrete(63)\n",
      "Discrete(3)\n"
     ]
    }
   ],
   "source": [
    "env = gym.make('Snake-v0', width=7, height=9, solid_border=False)\n",
    "print(env.observation_space)\n",
    "print(env.action_space)"
   ]
  },
  {
   "cell_type": "code",
   "execution_count": 3,
   "id": "538846d0",
   "metadata": {},
   "outputs": [],
   "source": [
    "# env.reset()\n",
    "# if True:\n",
    "#     for i in range(5):\n",
    "#         clear_output(wait=True)\n",
    "#         env.render()\n",
    "#         env.step(np.random.randint(3))\n",
    "#         time.sleep(2)\n",
    "#     time.sleep(2)\n",
    "#     env.close()"
   ]
  },
  {
   "cell_type": "markdown",
   "id": "bc3b0e1f",
   "metadata": {},
   "source": [
    "#### Play with human input"
   ]
  },
  {
   "cell_type": "code",
   "execution_count": 4,
   "id": "6748f3d9",
   "metadata": {
    "scrolled": false
   },
   "outputs": [],
   "source": [
    "# env.reset()\n",
    "# done = False\n",
    "# while not done:\n",
    "# #     clear_output(wait=True)\n",
    "#     env.render()\n",
    "#     act = input('0 continue, 1 right, 2 left')\n",
    "#     obs, reward, done, info = env.step(int(act))\n",
    "# env.close()"
   ]
  },
  {
   "cell_type": "markdown",
   "id": "34d08e1c",
   "metadata": {},
   "source": [
    "#### Play in human mode, with arrows"
   ]
  },
  {
   "cell_type": "code",
   "execution_count": 5,
   "id": "28ebeb2a",
   "metadata": {},
   "outputs": [],
   "source": [
    "myBoard = [[1, 1, 1, 1, 1, 1, 1],\n",
    "           [1, 0, 0, 0, 0, 0, 1],\n",
    "           [1, 0, 0, 0, 0, 0, 1],\n",
    "           [1, 0, 0, 0, 0, 0, 1],\n",
    "           [1, 0, 0, 0, 0, 1, 1],\n",
    "           [1, 0, 0, 0, 1, 1, 1],\n",
    "           [1, 1, 1, 1, 1, 1, 1]]"
   ]
  },
  {
   "cell_type": "code",
   "execution_count": 6,
   "id": "6401d760",
   "metadata": {},
   "outputs": [],
   "source": [
    "# env.reset(mode='human', custom_board=myBoard)"
   ]
  },
  {
   "cell_type": "code",
   "execution_count": 7,
   "id": "192fb82a",
   "metadata": {},
   "outputs": [],
   "source": [
    "env.reset(mode='human', shape='Double_v')"
   ]
  },
  {
   "cell_type": "code",
   "execution_count": 8,
   "id": "5187505d",
   "metadata": {},
   "outputs": [],
   "source": [
    "# env.reset(mode='human')"
   ]
  }
 ],
 "metadata": {
  "kernelspec": {
   "display_name": "Python 3 (ipykernel)",
   "language": "python",
   "name": "python3"
  },
  "language_info": {
   "codemirror_mode": {
    "name": "ipython",
    "version": 3
   },
   "file_extension": ".py",
   "mimetype": "text/x-python",
   "name": "python",
   "nbconvert_exporter": "python",
   "pygments_lexer": "ipython3",
   "version": "3.8.10"
  }
 },
 "nbformat": 4,
 "nbformat_minor": 5
}
