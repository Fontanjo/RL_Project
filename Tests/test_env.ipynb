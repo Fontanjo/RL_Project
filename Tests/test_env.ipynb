{
 "cells": [
  {
   "cell_type": "code",
   "execution_count": 1,
   "id": "11753b24",
   "metadata": {},
   "outputs": [],
   "source": [
    "import gym\n",
    "import gym_Snake\n",
    "import time\n",
    "import sys\n",
    "from IPython.display import clear_output\n",
    "import numpy as np"
   ]
  },
  {
   "cell_type": "code",
   "execution_count": 2,
   "id": "752abcf2",
   "metadata": {},
   "outputs": [
    {
     "name": "stdout",
     "output_type": "stream",
     "text": [
      "Discrete(156)\n",
      "Discrete(3)\n"
     ]
    }
   ],
   "source": [
    "env = gym.make('Snake-v0', width=13, height=12, solid_border=True)\n",
    "print(env.observation_space)\n",
    "print(env.action_space)"
   ]
  },
  {
   "cell_type": "markdown",
   "id": "effb3a3c",
   "metadata": {},
   "source": [
    "#### AI play random"
   ]
  },
  {
   "cell_type": "code",
   "execution_count": 3,
   "id": "538846d0",
   "metadata": {},
   "outputs": [],
   "source": [
    "env.reset(player='computer', shape='Normal', state_mode='states', width=8, height=8, solid_border=True)\n",
    "if False:\n",
    "    done = False\n",
    "    while not done:\n",
    "        env.render()\n",
    "        obs, reward, done, info = env.step(np.random.randint(3))\n",
    "        print(obs)\n",
    "        time.sleep(0.5)\n",
    "    time.sleep(2)\n",
    "    env.close()"
   ]
  },
  {
   "cell_type": "markdown",
   "id": "bc3b0e1f",
   "metadata": {},
   "source": [
    "#### Play with human input"
   ]
  },
  {
   "cell_type": "code",
   "execution_count": 4,
   "id": "6748f3d9",
   "metadata": {
    "scrolled": false
   },
   "outputs": [
    {
     "name": "stdout",
     "output_type": "stream",
     "text": [
      "0 continue, 1 right, 2 left0\n",
      "384\n",
      "-1\n",
      "0 continue, 1 right, 2 left0\n",
      "481\n",
      "-1\n",
      "0 continue, 1 right, 2 left0\n",
      "collision\n",
      "499\n",
      "-10\n"
     ]
    }
   ],
   "source": [
    "env.reset(reward_mode = 'extended')\n",
    "done = False\n",
    "env.render()\n",
    "while not done:\n",
    "#     clear_output(wait=True)\n",
    "    \n",
    "    act = input('0 continue, 1 right, 2 left')\n",
    "    obs, reward, done, info = env.step(int(act))\n",
    "    print(obs)\n",
    "#     print(info['walls'])\n",
    "#     print(info['target_pos'])\n",
    "    print(reward)\n",
    "    env.render()\n",
    "env.close()"
   ]
  },
  {
   "cell_type": "markdown",
   "id": "34d08e1c",
   "metadata": {},
   "source": [
    "#### Play in human mode, with arrows"
   ]
  },
  {
   "cell_type": "code",
   "execution_count": 5,
   "id": "28ebeb2a",
   "metadata": {},
   "outputs": [],
   "source": [
    "# myBoard = [[1, 1, 1, 1, 1, 1, 1],\n",
    "#            [1, 0, 0, 0, 0, 0, 1],\n",
    "#            [1, 0, 0, 1, 0, 0, 1],\n",
    "#            [1, 0, 0, 1, 0, 0, 1],\n",
    "#            [1, 0, 0, 0, 0, 1, 1],\n",
    "#            [1, 0, 0, 0, 1, 1, 1],\n",
    "#            [1, 1, 1, 1, 1, 1, 1]]"
   ]
  },
  {
   "cell_type": "code",
   "execution_count": 6,
   "id": "6401d760",
   "metadata": {},
   "outputs": [],
   "source": [
    "# env.reset(player='human', custom_board=myBoard)"
   ]
  },
  {
   "cell_type": "code",
   "execution_count": 7,
   "id": "192fb82a",
   "metadata": {},
   "outputs": [],
   "source": [
    "# env.reset(player='human', shape='Double_v', state_mode='states')"
   ]
  },
  {
   "cell_type": "code",
   "execution_count": null,
   "id": "560c4216",
   "metadata": {},
   "outputs": [],
   "source": []
  },
  {
   "cell_type": "code",
   "execution_count": 8,
   "id": "5187505d",
   "metadata": {},
   "outputs": [],
   "source": [
    "# env.reset(mode='human')"
   ]
  }
 ],
 "metadata": {
  "kernelspec": {
   "display_name": "Python 3 (ipykernel)",
   "language": "python",
   "name": "python3"
  },
  "language_info": {
   "codemirror_mode": {
    "name": "ipython",
    "version": 3
   },
   "file_extension": ".py",
   "mimetype": "text/x-python",
   "name": "python",
   "nbconvert_exporter": "python",
   "pygments_lexer": "ipython3",
   "version": "3.8.10"
  }
 },
 "nbformat": 4,
 "nbformat_minor": 5
}
