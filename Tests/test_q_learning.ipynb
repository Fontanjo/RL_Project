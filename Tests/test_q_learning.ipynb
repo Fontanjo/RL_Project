{
 "cells": [
  {
   "cell_type": "code",
   "execution_count": 1,
   "id": "a1fbe275",
   "metadata": {},
   "outputs": [],
   "source": [
    "import gym\n",
    "import gym_Snake\n",
    "import time\n",
    "import sys\n",
    "from IPython.display import clear_output\n",
    "import numpy as np\n",
    "from tqdm import tqdm\n",
    "import matplotlib.pyplot as plt\n",
    "import pandas as pd\n",
    "import os\n",
    "from Sarsa import SARSA\n",
    "from QLearning import QLearning"
   ]
  },
  {
   "cell_type": "code",
   "execution_count": 2,
   "id": "2c146741",
   "metadata": {},
   "outputs": [],
   "source": [
    "# Name of new env\n",
    "env_name = 'Double_v'\n",
    "\n",
    "# Name of the env in which the model was trained\n",
    "train_env = 'Double_v'\n",
    "\n",
    "# Algorithm used (QL or SARSA)\n",
    "my_algo_name = 'QL'\n",
    "\n",
    "# Training info (for retrive the file)\n",
    "nb_iterations = 100000\n",
    "eps_min_after = 70000\n",
    "\n",
    "# Number of tests to run\n",
    "nb_tests = 200"
   ]
  },
  {
   "cell_type": "code",
   "execution_count": 3,
   "id": "3636014b",
   "metadata": {},
   "outputs": [],
   "source": [
    "reward_eat = 1\n",
    "\n",
    "custom_rewards = {\n",
    "    \"REWARD_TARGET\": reward_eat,\n",
    "    \"REWARD_COLLISION\": -1,\n",
    "    \"REWARD_TOWARD\": 0,\n",
    "    \"REWARD_AWAY\": 0\n",
    "}\n",
    "\n",
    "\n",
    "\n",
    "env = gym.make('Snake-v0', \n",
    "               player = 'computer', \n",
    "               shape = env_name, \n",
    "               state_mode = 'states', \n",
    "               reward_mode = 'normal', \n",
    "               width = 10, \n",
    "               height = 10, \n",
    "               solid_border = True,\n",
    "               rewards = custom_rewards)"
   ]
  },
  {
   "cell_type": "code",
   "execution_count": 4,
   "id": "826bf0f7",
   "metadata": {},
   "outputs": [],
   "source": [
    "min_epsilon = 0.01\n",
    "\n",
    "QL = QLearning(n_actions = env.action_space.n,\n",
    "               n_states = env.observation_space.n, \n",
    "               discount = 0.9, \n",
    "               alpha = 0.2, \n",
    "               epsilon = min_epsilon,\n",
    "               min_epsilon = min_epsilon)\n",
    "\n",
    "SA = SARSA(n_actions = env.action_space.n, \n",
    "           n_states = env.observation_space.n,\n",
    "           discount = 0.9,\n",
    "           alpha = 0.2,\n",
    "           epsilon = min_epsilon,\n",
    "           min_epsilon = min_epsilon)\n"
   ]
  },
  {
   "cell_type": "code",
   "execution_count": 5,
   "id": "3dd05fcf",
   "metadata": {},
   "outputs": [],
   "source": [
    "def play_epoch(algo, env, render = False, sleep_time = 0.5):\n",
    "    \n",
    "    # Reset env\n",
    "    obs = env.reset()\n",
    "    algo.reset(obs)\n",
    "\n",
    "    done = False\n",
    "    \n",
    "    # Sum the rewards\n",
    "    total_rew = 0\n",
    "    i = 0\n",
    "    eated = 0\n",
    "    \n",
    "    while not done:\n",
    "        # Show\n",
    "        if render: env.render()\n",
    "        # Choose next action\n",
    "        new_act = algo.act()\n",
    "        # Act in the env\n",
    "        obs, reward, done, info = env.step(new_act)\n",
    "        # Store reward\n",
    "        total_rew += reward\n",
    "        if reward == reward_eat: eated += 1\n",
    "        # Update algorithm\n",
    "        algo.update(new_act, reward, obs)\n",
    "        # Slow render\n",
    "        if render: time.sleep(sleep_time)\n",
    "        i += 1\n",
    "            \n",
    "    # Return total reward\n",
    "    return total_rew, eated, i"
   ]
  },
  {
   "cell_type": "code",
   "execution_count": 6,
   "id": "2a4f6d0f",
   "metadata": {},
   "outputs": [
    {
     "name": "stderr",
     "output_type": "stream",
     "text": [
      "100%|█████████████████████████████████████████| 200/200 [00:03<00:00, 61.42it/s]"
     ]
    },
    {
     "name": "stdout",
     "output_type": "stream",
     "text": [
      "\n",
      "#########################\n",
      "After 200 tests with  QL:\n",
      "(trained on Double_v, test on Double_v)\n",
      "\n",
      "Average targets eated:       7.57\n",
      "Max rewards eated:           23\n",
      "Median of rewards eated:     7\n",
      "Std of rewards eated:        4.978\n",
      "Average time per simulation: 0.0162\n",
      "Average time per step:       0.000109\n"
     ]
    },
    {
     "name": "stderr",
     "output_type": "stream",
     "text": [
      "\n"
     ]
    }
   ],
   "source": [
    "\n",
    "\n",
    "# Ensure the current working directory is correct\n",
    "filepath = globals()['_dh'][0]\n",
    "os.chdir(filepath)\n",
    "\n",
    "table = np.load(f'QL_results/{my_algo_name}_epochs_{nb_iterations}_batch_1000_x_5000_epsilon_{eps_min_after}_train_{train_env}.npy')\n",
    "\n",
    "my_algo_test = SA if my_algo_name == 'SARSA' else QL\n",
    "my_algo_test.Q = table\n",
    "my_algo_test.epsilon = 0.01\n",
    "\n",
    "\n",
    "\n",
    "\n",
    "times = []\n",
    "steps = []\n",
    "eated = []\n",
    "rewards = []\n",
    " \n",
    "\n",
    "for _ in tqdm(range(nb_tests)):\n",
    "    start = time.time()\n",
    "    r, e, i = play_epoch(algo = my_algo_test, env = env, render = False)\n",
    "    stop = time.time()\n",
    "    times.append(stop - start)\n",
    "    steps.append(i)\n",
    "    eated.append(e)\n",
    "    rewards.append(r)\n",
    "    \n",
    "print('\\n#########################')\n",
    "print(f'After {nb_tests} tests with  {my_algo_name}:')\n",
    "print(f'(trained on {train_env}, test on {env_name})')\n",
    "print()\n",
    "print(f'Average targets eated:       {np.mean(eated)}')\n",
    "# print(f'Average reward:              {np.mean(rewards)}')\n",
    "print(f'Max rewards eated:           {np.max(eated)}')\n",
    "print(f'Median of rewards eated:     {round(np.median(eated))}')\n",
    "print(f'Std of rewards eated:        {round(np.std(eated), 3)}')\n",
    "print(f'Average time per simulation: {round(np.mean(times), 4)}')\n",
    "print(f'Average time per step:       {round(np.sum(times) / np.sum(steps), 6)}')"
   ]
  },
  {
   "cell_type": "code",
   "execution_count": 7,
   "id": "5e242b3c",
   "metadata": {},
   "outputs": [],
   "source": [
    "# from IPython.display import HTML, Javascript, display\n",
    "# def restart_kernel_and_run_all_cells():\n",
    "#     display(HTML(\n",
    "#         '''\n",
    "#             <script>\n",
    "#                 code_show = false;\n",
    "#                 function restart_run_all(){\n",
    "#                     IPython.notebook.kernel.restart();\n",
    "#                     setTimeout(function(){\n",
    "#                         IPython.notebook.execute_all_cells();\n",
    "#                     }, 10000)\n",
    "#                 }\n",
    "#                 function code_toggle() {\n",
    "#                     if (code_show) {\n",
    "#                         $('div.input').hide(200);\n",
    "#                     } else {\n",
    "#                         $('div.input').show(200);\n",
    "#                     }\n",
    "#                     code_show = !code_show\n",
    "#                 }\n",
    "#                 code_toggle() \n",
    "#                 restart_run_all()\n",
    "#             </script>\n",
    "\n",
    "#         '''\n",
    "#     ))\n",
    "# restart_kernel_and_run_all_cells()"
   ]
  },
  {
   "cell_type": "code",
   "execution_count": null,
   "id": "a25d5679",
   "metadata": {},
   "outputs": [],
   "source": []
  }
 ],
 "metadata": {
  "kernelspec": {
   "display_name": "Python 3 (ipykernel)",
   "language": "python",
   "name": "python3"
  },
  "language_info": {
   "codemirror_mode": {
    "name": "ipython",
    "version": 3
   },
   "file_extension": ".py",
   "mimetype": "text/x-python",
   "name": "python",
   "nbconvert_exporter": "python",
   "pygments_lexer": "ipython3",
   "version": "3.8.10"
  }
 },
 "nbformat": 4,
 "nbformat_minor": 5
}
