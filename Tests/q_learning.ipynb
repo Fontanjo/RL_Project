{
 "cells": [
  {
   "cell_type": "code",
   "execution_count": 1,
   "id": "8430bd91",
   "metadata": {},
   "outputs": [],
   "source": [
    "import gym\n",
    "import gym_Snake\n",
    "import time\n",
    "import sys\n",
    "from IPython.display import clear_output\n",
    "import numpy as np\n",
    "from tqdm import tqdm\n",
    "import matplotlib.pyplot as plt"
   ]
  },
  {
   "cell_type": "markdown",
   "id": "2b7aa89d",
   "metadata": {},
   "source": [
    "#### QLearning algorithm"
   ]
  },
  {
   "cell_type": "code",
   "execution_count": 2,
   "id": "d687eb65",
   "metadata": {},
   "outputs": [],
   "source": [
    "class QLearning:\n",
    "    def __init__(self, n_actions, n_states, discount=0.9, alpha = 0.01, epsilon=0.1, decay = 0):\n",
    "        self.n_actions = n_actions\n",
    "        self.n_states = n_states\n",
    "        self.Q = np.zeros([n_states, n_actions])\n",
    "        self.discount = discount\n",
    "        self.alpha = alpha\n",
    "        self.epsilon = epsilon\n",
    "        self.decay = decay\n",
    "        \n",
    "    def act(self):\n",
    "        ## by default, act greedily\n",
    "        if (np.random.uniform() < self.epsilon):\n",
    "            return np.random.randint(self.n_actions)\n",
    "        return np.argmax(self.Q[self.state, :])\n",
    "    \n",
    "    def update(self, action, reward, state):\n",
    "        ## fill in\n",
    "        Q_max = max(self.Q[state, :])\n",
    "        self.Q[self.state, action] = self.alpha * (reward + self.discount * Q_max) + (1.0 - self.alpha) * self.Q[self.state, action]\n",
    "        self.state = state\n",
    "\n",
    "    def reset(self, state):\n",
    "        self.state = state\n"
   ]
  },
  {
   "cell_type": "code",
   "execution_count": 12,
   "id": "d12ff9aa",
   "metadata": {},
   "outputs": [],
   "source": [
    "class QLearning2:\n",
    "    def __init__(self, n_actions, n_states, discount=0.9, alpha = 0.01, epsilon=0.1, decay = 0):\n",
    "        self.n_actions = n_actions\n",
    "        self.n_states = n_states\n",
    "        self.Q = np.zeros([n_states, n_actions])\n",
    "        self.discount = discount\n",
    "        self.alpha = alpha\n",
    "        self.epsilon = epsilon\n",
    "        self.decay = decay\n",
    "        \n",
    "    def act(self):\n",
    "        self.epsilon = 1 / (1 / self.epsilon + self.decay)\n",
    "        if (np.random.uniform() < self.epsilon):\n",
    "            return np.random.choice(self.n_actions)\n",
    "        return np.argmax(self.Q[self.state, :])\n",
    "    \n",
    "    def update(self, action, reward, state):\n",
    "        self.Q[self.state, action] += self.alpha * np.max(reward + self.discount * self.Q[state, :] - self.Q[self.state, action])\n",
    "        self.alpha += 1 / ( self.alpha + self.decay)\n",
    "        self.state = state\n",
    "\n",
    "    def reset(self, state):\n",
    "        self.state = state\n"
   ]
  },
  {
   "cell_type": "code",
   "execution_count": 19,
   "id": "ce40a0b5",
   "metadata": {},
   "outputs": [],
   "source": [
    "class SARSA:\n",
    "    def __init__(self, n_actions, n_states, discount=0.9, alpha = 0.01, epsilon=0.1, decay = 0):\n",
    "        self.n_actions = n_actions\n",
    "        self.n_states = n_states\n",
    "        self.Q = np.zeros([n_states, n_actions])\n",
    "        self.discount = discount\n",
    "        self.alpha = alpha\n",
    "        self.epsilon = epsilon\n",
    "        self.decay = decay\n",
    "        self.state = 0  # Set initial state\n",
    "\n",
    "    def act(self):\n",
    "        ## by default, act greedily\n",
    "        if (np.random.uniform() < self.epsilon):\n",
    "            return np.random.randint(self.n_actions)\n",
    "        return np.argmax(self.Q[self.state, :])\n",
    "\n",
    "    def update(self, action, reward, state):\n",
    "        ## fill in\n",
    "        next_action = np.argmax(self.Q[state, :])\n",
    "        self.Q[self.state, action] = self.alpha * (reward + self.discount * self.Q[state, next_action]) + (1 - self.alpha) * self.Q[self.state, action]\n",
    "        self.state = state\n",
    "\n",
    "    def reset(self, state):\n",
    "        self.state = state"
   ]
  },
  {
   "cell_type": "markdown",
   "id": "72c8190d",
   "metadata": {},
   "source": [
    "#### Create env"
   ]
  },
  {
   "cell_type": "code",
   "execution_count": 3,
   "id": "2dfa347e",
   "metadata": {},
   "outputs": [
    {
     "name": "stdout",
     "output_type": "stream",
     "text": [
      "Discrete(1024)\n",
      "Discrete(3)\n"
     ]
    }
   ],
   "source": [
    "env = gym.make('Snake-v0', \n",
    "               player='computer', \n",
    "               shape='Normal', \n",
    "               state_mode='states', \n",
    "               reward_mode = 'extended', \n",
    "               width=9, \n",
    "               height=9, \n",
    "               solid_border=True)\n",
    "print(env.observation_space)\n",
    "print(env.action_space)"
   ]
  },
  {
   "cell_type": "markdown",
   "id": "a2323d0d",
   "metadata": {},
   "source": [
    "#### Init QLearning algorithm"
   ]
  },
  {
   "cell_type": "code",
   "execution_count": 20,
   "id": "3ad8bf94",
   "metadata": {},
   "outputs": [],
   "source": [
    "QL = QLearning(n_actions = env.action_space.n, n_states = env.observation_space.n)\n",
    "QL2 = QLearning(n_actions = env.action_space.n, n_states = env.observation_space.n, discount=0.9, alpha = 0.01, epsilon=0.9, decay = 0.01)\n",
    "SA = SARSA(n_actions = env.action_space.n, n_states = env.observation_space.n)"
   ]
  },
  {
   "cell_type": "code",
   "execution_count": 5,
   "id": "34f29db0",
   "metadata": {},
   "outputs": [],
   "source": [
    "def play_epoch(algo, env, render = False):\n",
    "    \n",
    "    # Reset env\n",
    "    obs = env.reset()\n",
    "    algo.reset(obs)\n",
    "\n",
    "    done = False\n",
    "    \n",
    "    # Sum the rewards\n",
    "    total_rew = 0\n",
    "    \n",
    "    while not done:\n",
    "        # Show\n",
    "        if render: env.render()\n",
    "        # Choose next action\n",
    "        new_act = algo.act()\n",
    "        # Act in the env\n",
    "        obs, reward, done, info = env.step(np.random.randint(3))\n",
    "        # Store reward\n",
    "        total_rew += reward\n",
    "        # Update algorithm\n",
    "        algo.update(new_act, reward, obs)\n",
    "        # Slow render\n",
    "        if render: time.sleep(0.5)\n",
    "            \n",
    "    # Return total reward\n",
    "    return total_rew"
   ]
  },
  {
   "cell_type": "markdown",
   "id": "8025807c",
   "metadata": {},
   "source": [
    "#### Train"
   ]
  },
  {
   "cell_type": "code",
   "execution_count": 21,
   "id": "786462f7",
   "metadata": {},
   "outputs": [
    {
     "name": "stderr",
     "output_type": "stream",
     "text": [
      "100%|████████████████████████████████████| 50000/50000 [00:55<00:00, 906.12it/s]\n"
     ]
    }
   ],
   "source": [
    "render = True\n",
    "\n",
    "nb_iterations = 50000\n",
    "\n",
    "rewards = []\n",
    "\n",
    "# Train\n",
    "for i in tqdm(range(nb_iterations)):\n",
    "    r = play_epoch(algo = SA, env = env, render = False)\n",
    "    rewards.append(r)\n",
    "    \n",
    "\n",
    "# Visualize results\n",
    "# play_epoch(algo = QL, env = env, render = True)"
   ]
  },
  {
   "cell_type": "code",
   "execution_count": 22,
   "id": "5100579a",
   "metadata": {},
   "outputs": [
    {
     "data": {
      "text/plain": [
       "[<matplotlib.lines.Line2D at 0x7fae929d6280>]"
      ]
     },
     "execution_count": 22,
     "metadata": {},
     "output_type": "execute_result"
    },
    {
     "data": {
      "image/png": "[encoded data removed]",
      "text/plain": [
       "<Figure size 432x288 with 1 Axes>"
      ]
     },
     "metadata": {
      "needs_background": "light"
     },
     "output_type": "display_data"
    }
   ],
   "source": [
    "plt.plot(range(len(rewards)), rewards)"
   ]
  },
  {
   "cell_type": "markdown",
   "id": "0b72b559",
   "metadata": {},
   "source": [
    "#### Visualize results"
   ]
  },
  {
   "cell_type": "code",
   "execution_count": 9,
   "id": "e6657185",
   "metadata": {},
   "outputs": [
    {
     "data": {
      "text/plain": [
       "-100"
      ]
     },
     "execution_count": 9,
     "metadata": {},
     "output_type": "execute_result"
    }
   ],
   "source": [
    "# Replay with last policy\n",
    "play_epoch(algo = QL, env = env, render = True)"
   ]
  },
  {
   "cell_type": "code",
   "execution_count": null,
   "id": "a65831fd",
   "metadata": {},
   "outputs": [],
   "source": []
  }
 ],
 "metadata": {
  "kernelspec": {
   "display_name": "Python 3 (ipykernel)",
   "language": "python",
   "name": "python3"
  },
  "language_info": {
   "codemirror_mode": {
    "name": "ipython",
    "version": 3
   },
   "file_extension": ".py",
   "mimetype": "text/x-python",
   "name": "python",
   "nbconvert_exporter": "python",
   "pygments_lexer": "ipython3",
   "version": "3.8.10"
  }
 },
 "nbformat": 4,
 "nbformat_minor": 5
}
