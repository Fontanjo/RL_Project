{
 "cells": [
  {
   "cell_type": "code",
   "execution_count": 1,
   "id": "8430bd91",
   "metadata": {},
   "outputs": [],
   "source": [
    "import gym\n",
    "import gym_Snake\n",
    "import time\n",
    "import sys\n",
    "from IPython.display import clear_output\n",
    "import numpy as np\n",
    "from tqdm import tqdm\n",
    "import matplotlib.pyplot as plt\n",
    "import pandas as pd\n",
    "import os"
   ]
  },
  {
   "cell_type": "markdown",
   "id": "2b7aa89d",
   "metadata": {},
   "source": [
    "#### QLearning algorithm"
   ]
  },
  {
   "cell_type": "code",
   "execution_count": 2,
   "id": "206a489c",
   "metadata": {},
   "outputs": [],
   "source": [
    "class QLearning:\n",
    "    def __init__(self, n_actions, n_states, discount=0.9, alpha = 0.01, epsilon=0.9, min_epsilon = 0.1, decay = 1):\n",
    "        self.n_actions = n_actions\n",
    "        self.n_states = n_states\n",
    "        self.Q = np.zeros([n_states, n_actions])\n",
    "        self.discount = discount\n",
    "        self.alpha = alpha\n",
    "        self.epsilon = epsilon\n",
    "        self.min_epsilon = min_epsilon\n",
    "        self.decay = decay\n",
    "        self.chronology = []\n",
    "        \n",
    "    def update_epsilon(self):\n",
    "#         if self.epsilon > self.min_epsilon: self.epsilon = 1 / (1 / self.epsilon + self.decay)\n",
    "        if self.epsilon > self.min_epsilon: self.epsilon = self.epsilon * self.decay\n",
    "            \n",
    "    def act(self):\n",
    "        if (np.random.uniform() < self.epsilon):\n",
    "            return np.random.choice(self.n_actions)\n",
    "        return np.argmax(self.Q[self.state, :])\n",
    "    \n",
    "    def update(self, action, reward, state, add_batch=True):\n",
    "        if add_batch: self.chronology.append([self.state, action, reward, state])\n",
    "        self.Q[self.state, action] += self.alpha * np.max(reward + self.discount * self.Q[state, :] - self.Q[self.state, action])        \n",
    "#         self.alpha += 1 / ( self.alpha + self.decay)\n",
    "        self.state = state\n",
    "\n",
    "    def reset(self, state):\n",
    "        self.state = state\n",
    "        \n",
    "    def play_batch(self, nb_batchs):\n",
    "        prev_state = self.state\n",
    "        arr = np.array(self.chronology)\n",
    "        for s,a,r,sn in arr[np.random.choice(arr.shape[0], size=nb_batchs, replace=False), :]:\n",
    "            # Reset position\n",
    "            self.reset(s)\n",
    "            # Update algorithm\n",
    "            self.update(a, r, sn, add_batch = False)\n",
    "        # Reset real state\n",
    "        self.reset(prev_state)\n"
   ]
  },
  {
   "cell_type": "code",
   "execution_count": 3,
   "id": "5fe3b492",
   "metadata": {},
   "outputs": [],
   "source": [
    "class SARSA:\n",
    "    def __init__(self, n_actions, n_states, discount=0.9, alpha = 0.01, epsilon=0.1, min_epsilon = 0.1, decay = 0):\n",
    "        self.n_actions = n_actions\n",
    "        self.n_states = n_states\n",
    "        self.Q = np.zeros([n_states, n_actions])\n",
    "        self.discount = discount\n",
    "        self.alpha = alpha\n",
    "        self.epsilon = epsilon\n",
    "        self.min_epsilon = min_epsilon\n",
    "        self.decay = decay\n",
    "        self.state = 0  # Set initial state\n",
    "        self.chronology = []\n",
    "        \n",
    "        \n",
    "    def update_epsilon(self):\n",
    "#         if self.epsilon > self.min_epsilon: self.epsilon = 1 / (1 / self.epsilon + self.decay)\n",
    "        if self.epsilon > self.min_epsilon: self.epsilon = self.epsilon * self.decay\n",
    "            \n",
    "    def act(self):\n",
    "        ## by default, act greedily\n",
    "        if (np.random.uniform() < self.epsilon):\n",
    "            return np.random.randint(self.n_actions)\n",
    "        return np.argmax(self.Q[self.state, :])\n",
    "\n",
    "    def update(self, action, reward, state, add_batch = True):\n",
    "        if add_batch: self.chronology.append([self.state, action, reward, state])\n",
    "        ## fill in\n",
    "        next_action = np.argmax(self.Q[state, :])\n",
    "        self.Q[self.state, action] += self.alpha * np.max(reward + self.discount * self.Q[state, :] - self.Q[self.state, action])        \n",
    "        self.Q[self.state, action] = self.alpha * (reward + self.discount * self.Q[state, next_action]) + (1 - self.alpha) * self.Q[self.state, action]\n",
    "        self.state = state\n",
    "\n",
    "    def reset(self, state):\n",
    "        self.state = state\n",
    "        \n",
    "    def play_batch(self, nb_batchs):\n",
    "        prev_state = self.state\n",
    "        arr = np.array(self.chronology)\n",
    "        for s,a,r,sn in arr[np.random.choice(arr.shape[0], size=nb_batchs, replace=False), :]:\n",
    "            # Reset position\n",
    "            self.reset(s)\n",
    "            # Update algorithm\n",
    "            self.update(a, r, sn, add_batch = False)\n",
    "        # Reset real state\n",
    "        self.reset(prev_state)"
   ]
  },
  {
   "cell_type": "markdown",
   "id": "72c8190d",
   "metadata": {},
   "source": [
    "#### Create env"
   ]
  },
  {
   "cell_type": "code",
   "execution_count": 4,
   "id": "2dfa347e",
   "metadata": {},
   "outputs": [
    {
     "name": "stdout",
     "output_type": "stream",
     "text": [
      "Discrete(1024)\n",
      "Discrete(3)\n"
     ]
    }
   ],
   "source": [
    "reward_eat = 1\n",
    "\n",
    "custom_rewards = {\n",
    "    \"REWARD_TARGET\": reward_eat,\n",
    "    \"REWARD_COLLISION\": -1,\n",
    "    \"REWARD_TOWARD\": 0,\n",
    "    \"REWARD_AWAY\": 0\n",
    "}\n",
    "\n",
    "train_env_name = 'Double_v'\n",
    "\n",
    "env = gym.make('Snake-v0', \n",
    "               player = 'computer', \n",
    "               shape = train_env_name, \n",
    "               state_mode = 'states', \n",
    "               reward_mode = 'normal', \n",
    "               width = 10, \n",
    "               height = 10, \n",
    "               solid_border = True,\n",
    "               rewards = custom_rewards)\n",
    "print(env.observation_space)\n",
    "print(env.action_space)"
   ]
  },
  {
   "cell_type": "markdown",
   "id": "9e67906f",
   "metadata": {},
   "source": [
    "#### Iteration logic"
   ]
  },
  {
   "cell_type": "code",
   "execution_count": 5,
   "id": "34f29db0",
   "metadata": {},
   "outputs": [],
   "source": [
    "def play_epoch(algo, env, render = False, sleep_time = 0.5):\n",
    "    \n",
    "    # Reset env\n",
    "    obs = env.reset()\n",
    "    algo.reset(obs)\n",
    "\n",
    "    done = False\n",
    "    \n",
    "    # Sum the rewards\n",
    "    total_rew = 0\n",
    "    i = 0\n",
    "    eated = 0\n",
    "    \n",
    "    while not done:\n",
    "        # Show\n",
    "        if render: env.render()\n",
    "        # Choose next action\n",
    "        new_act = algo.act()\n",
    "        # Act in the env\n",
    "        obs, reward, done, info = env.step(new_act)\n",
    "        # Store reward\n",
    "        total_rew += reward\n",
    "        if reward == reward_eat: eated += 1\n",
    "        # Update algorithm\n",
    "        algo.update(new_act, reward, obs)\n",
    "        # Slow render\n",
    "        if render: time.sleep(sleep_time)\n",
    "        i += 1\n",
    "            \n",
    "    # Return total reward\n",
    "    return total_rew, eated, i"
   ]
  },
  {
   "cell_type": "markdown",
   "id": "a2323d0d",
   "metadata": {},
   "source": [
    "#### Init QLearning algorithm"
   ]
  },
  {
   "cell_type": "code",
   "execution_count": 6,
   "id": "90e6aaef",
   "metadata": {},
   "outputs": [],
   "source": [
    "# Compute decai in order to reach given value after n iterations\n",
    "n = 70000\n",
    "initial_epsilon = 1\n",
    "min_epsilon = 0.01\n",
    "opt_decay = (min_epsilon / initial_epsilon)**(1/n)"
   ]
  },
  {
   "cell_type": "code",
   "execution_count": 7,
   "id": "3ad8bf94",
   "metadata": {},
   "outputs": [],
   "source": [
    "# QL = QLearning(n_actions = env.action_space.n,\n",
    "#                 n_states = env.observation_space.n, \n",
    "#                 discount=0.9, \n",
    "#                 alpha = 0.1, \n",
    "#                 epsilon=1, \n",
    "#                 decay = 0.00001)\n",
    "\n",
    "QL = QLearning(n_actions = env.action_space.n,\n",
    "               n_states = env.observation_space.n, \n",
    "               discount = 0.9, \n",
    "               alpha = 0.2, \n",
    "               epsilon = initial_epsilon, \n",
    "               min_epsilon = min_epsilon,\n",
    "               decay = opt_decay)\n",
    "\n",
    "SA = SARSA(n_actions = env.action_space.n, \n",
    "           n_states = env.observation_space.n,\n",
    "           discount = 0.9,\n",
    "           alpha = 0.2,\n",
    "           epsilon = initial_epsilon,\n",
    "           min_epsilon = min_epsilon,\n",
    "           decay = opt_decay)\n",
    "\n"
   ]
  },
  {
   "cell_type": "markdown",
   "id": "8025807c",
   "metadata": {},
   "source": [
    "#### Train"
   ]
  },
  {
   "cell_type": "code",
   "execution_count": 8,
   "id": "786462f7",
   "metadata": {},
   "outputs": [
    {
     "name": "stderr",
     "output_type": "stream",
     "text": [
      "100%|██████████████████████████████████| 100000/100000 [14:05<00:00, 118.30it/s]\n"
     ]
    }
   ],
   "source": [
    "render = True\n",
    "\n",
    "nb_iterations = 100000\n",
    "\n",
    "rewards = []\n",
    "eps = []\n",
    "\n",
    "my_algo_name = 'QL' # 'QL' 'SARSA'\n",
    "my_algo = SA if my_algo_name == 'SARSA' else QL # QL or SA\n",
    "\n",
    "# Train\n",
    "for i in tqdm(range(nb_iterations)):\n",
    "    # Play a game\n",
    "    r, _, _ = play_epoch(algo = my_algo, env = env, render = False)\n",
    "    \n",
    "    # Keep track of reward\n",
    "    rewards.append(r)\n",
    "    eps.append(my_algo.epsilon)\n",
    "    \n",
    "    # Update epsilon\n",
    "    my_algo.update_epsilon()\n",
    "    \n",
    "    # Play batch\n",
    "    if i > 1000 and i % 1000 == 0:\n",
    "        my_algo.play_batch(min(i - 1, 5000))\n",
    "        \n",
    "    # Manually update epsilon\n",
    "#     if i == 150000:\n",
    "#         my_algo.epsilon = .5\n",
    "#     if i == 300000:\n",
    "#         my_algo.epsilon = .2\n",
    "#     if i == 400000:\n",
    "#         my_algo.epsilon = 0\n"
   ]
  },
  {
   "cell_type": "code",
   "execution_count": 9,
   "id": "84f9c09f",
   "metadata": {},
   "outputs": [
    {
     "data": {
      "text/plain": [
       "'/home/jonas/Documents/University/RLDMUU/RL_Project/Tests'"
      ]
     },
     "execution_count": 9,
     "metadata": {},
     "output_type": "execute_result"
    }
   ],
   "source": [
    "os.getcwd()"
   ]
  },
  {
   "cell_type": "code",
   "execution_count": 10,
   "id": "5100579a",
   "metadata": {},
   "outputs": [
    {
     "data": {
      "image/png": "[encoded data removed]",
      "text/plain": [
       "<Figure size 432x288 with 1 Axes>"
      ]
     },
     "metadata": {
      "needs_background": "light"
     },
     "output_type": "display_data"
    }
   ],
   "source": [
    "# Plot rewards\n",
    "plt.plot(range(len(rewards)), rewards)\n",
    "# Plot moving average\n",
    "plt.plot(range(len(rewards)), pd.Series(rewards).rolling(1000).mean())\n",
    "# Save plot\n",
    "plt.savefig(f'QL_results/{my_algo_name}_epochs_{nb_iterations}_batch_1000_x_5000_epsilon_{n}_train_{train_env_name}.png')"
   ]
  },
  {
   "cell_type": "code",
   "execution_count": 11,
   "id": "75e2e880",
   "metadata": {},
   "outputs": [
    {
     "data": {
      "text/plain": [
       "[<matplotlib.lines.Line2D at 0x7fd192447be0>]"
      ]
     },
     "execution_count": 11,
     "metadata": {},
     "output_type": "execute_result"
    },
    {
     "data": {
      "image/png": "[encoded data removed]",
      "text/plain": [
       "<Figure size 432x288 with 1 Axes>"
      ]
     },
     "metadata": {
      "needs_background": "light"
     },
     "output_type": "display_data"
    }
   ],
   "source": [
    "plt.plot(range(len(eps)), eps)"
   ]
  },
  {
   "cell_type": "markdown",
   "id": "0b72b559",
   "metadata": {},
   "source": [
    "#### Visualize results"
   ]
  },
  {
   "cell_type": "code",
   "execution_count": 12,
   "id": "e6657185",
   "metadata": {},
   "outputs": [],
   "source": [
    "# # # # Replay with last policy\n",
    "# old_eps = my_algo.epsilon\n",
    "# my_algo.epsilon = 0\n",
    "# play_epoch(algo = my_algo, env = env, render = True)\n",
    "# my_algo.epsilon = old_eps"
   ]
  },
  {
   "cell_type": "code",
   "execution_count": null,
   "id": "ee73521e",
   "metadata": {},
   "outputs": [],
   "source": []
  },
  {
   "cell_type": "code",
   "execution_count": 13,
   "id": "97f91123",
   "metadata": {},
   "outputs": [],
   "source": [
    "# If run cell 'visualize results'\n",
    "# np.save('../../../Tests/QL_results/SARSA_epochs_500000_batch_1000_x_5000_.npy', my_algo.Q)"
   ]
  },
  {
   "cell_type": "code",
   "execution_count": 14,
   "id": "57e0931d",
   "metadata": {},
   "outputs": [],
   "source": [
    "# else\n",
    "np.save(f'QL_results/{my_algo_name}_epochs_{nb_iterations}_batch_1000_x_5000_epsilon_{n}_train_{train_env_name}.npy', my_algo.Q)"
   ]
  },
  {
   "cell_type": "code",
   "execution_count": null,
   "id": "ddf220e6",
   "metadata": {},
   "outputs": [],
   "source": []
  },
  {
   "cell_type": "code",
   "execution_count": null,
   "id": "980632c9",
   "metadata": {},
   "outputs": [],
   "source": []
  },
  {
   "cell_type": "code",
   "execution_count": 38,
   "id": "39e215c8",
   "metadata": {
    "deletable": false,
    "editable": false,
    "run_control": {
     "frozen": true
    }
   },
   "outputs": [],
   "source": [
    "custom_rewards = {\n",
    "    \"REWARD_TARGET\": reward_eat,\n",
    "    \"REWARD_COLLISION\": -1,\n",
    "    \"REWARD_TOWARD\": 0,\n",
    "    \"REWARD_AWAY\": 0\n",
    "}\n",
    "\n",
    "env_name = 'Double_v'\n",
    "\n",
    "new_env = gym.make('Snake-v0', \n",
    "               player = 'computer', \n",
    "               shape = env_name, \n",
    "               state_mode = 'states', \n",
    "               reward_mode = 'normal', \n",
    "               width = 10, \n",
    "               height = 10, \n",
    "               solid_border = True,\n",
    "               rewards = custom_rewards)"
   ]
  },
  {
   "cell_type": "code",
   "execution_count": 40,
   "id": "d8ca6727",
   "metadata": {
    "deletable": false,
    "editable": false,
    "run_control": {
     "frozen": true
    }
   },
   "outputs": [
    {
     "name": "stderr",
     "output_type": "stream",
     "text": [
      "100%|█████████████████████████████████████████| 200/200 [00:27<00:00,  7.17it/s]"
     ]
    },
    {
     "name": "stdout",
     "output_type": "stream",
     "text": [
      "\n",
      "#########################\n",
      "After 200 tests with  QL:\n",
      "Env: Double_v\n",
      "Average targets eated:       4.235\n",
      "Max rewards eated:           14\n",
      "Median of rewards eated:     4.0\n",
      "Average time per simulation: 0.11650198340415954\n",
      "Average time per step: 0.0006181460359959651\n"
     ]
    },
    {
     "name": "stderr",
     "output_type": "stream",
     "text": [
      "\n"
     ]
    }
   ],
   "source": [
    "my_algo_name = 'QL'\n",
    "nb_iterations = 100000\n",
    "\n",
    "# Ensure the current working directory is correct\n",
    "filepath = globals()['_dh'][0]\n",
    "os.chdir(filepath)\n",
    "\n",
    "table = np.load(f'QL_results/{my_algo_name}_epochs_{nb_iterations}_batch_1000_x_5000_epsilon_{n}.npy')\n",
    "\n",
    "my_algo_test = SA if my_algo_name == 'SARSA' else QL\n",
    "my_algo_test.Q = table\n",
    "my_algo_test.epsilon = 0.01\n",
    "\n",
    "\n",
    "nb_tests = 200\n",
    "\n",
    "times = []\n",
    "steps = []\n",
    "eated = []\n",
    "rewards = []\n",
    " \n",
    "\n",
    "for _ in tqdm(range(nb_tests)):\n",
    "    start = time.time()\n",
    "    r, e, i = play_epoch(algo = my_algo_test, env = new_env, render = False)\n",
    "    stop = time.time()\n",
    "    times.append(stop - start)\n",
    "    steps.append(i)\n",
    "    eated.append(e)\n",
    "    rewards.append(r)\n",
    "    \n",
    "print('\\n#########################')\n",
    "print(f'After {nb_tests} tests with  {my_algo_name}:')\n",
    "print(f'Env: {env_name}')\n",
    "print(f'Average targets eated:       {np.mean(eated)}')\n",
    "# print(f'Average reward:              {np.mean(rewards)}')\n",
    "print(f'Max rewards eated:           {np.max(eated)}')\n",
    "print(f'Median of rewards eated:     {np.median(eated)}')\n",
    "print(f'Average time per simulation: {np.mean(times)}')\n",
    "print(f'Average time per step: {np.sum(times) / np.sum(steps)}')"
   ]
  },
  {
   "cell_type": "code",
   "execution_count": null,
   "id": "84e994dd",
   "metadata": {},
   "outputs": [],
   "source": []
  }
 ],
 "metadata": {
  "kernelspec": {
   "display_name": "Python 3 (ipykernel)",
   "language": "python",
   "name": "python3"
  },
  "language_info": {
   "codemirror_mode": {
    "name": "ipython",
    "version": 3
   },
   "file_extension": ".py",
   "mimetype": "text/x-python",
   "name": "python",
   "nbconvert_exporter": "python",
   "pygments_lexer": "ipython3",
   "version": "3.8.10"
  }
 },
 "nbformat": 4,
 "nbformat_minor": 5
}
